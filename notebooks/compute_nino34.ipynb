{
 "cells": [
  {
   "cell_type": "markdown",
   "metadata": {},
   "source": [
    "# Calculate Nino 3.4 index"
   ]
  },
  {
   "cell_type": "code",
   "execution_count": 28,
   "metadata": {},
   "outputs": [
    {
     "name": "stdout",
     "output_type": "stream",
     "text": [
      "The autoreload extension is already loaded. To reload it, use:\n",
      "  %reload_ext autoreload\n"
     ]
    }
   ],
   "source": [
    "%load_ext autoreload\n",
    "%autoreload 2\n",
    "\n",
    "import xarray as xr\n",
    "import numpy as np\n",
    "import numpy.ma as ma\n",
    "import matplotlib as plt\n",
    "import matplotlib.pyplot as plt\n",
    "import os\n",
    "import cftime\n",
    "import nc_time_axis\n",
    "import numpy.matlib\n",
    "from season_util import season_mean\n",
    "from wgt_areaave import wgt_areaave as wa\n",
    "\n",
    "from nino34 import nino34\n",
    "\n",
    "# # for reloading libraries\n",
    "# import importlib\n",
    "# importlib.reload(jlat)\n",
    "# importlib.reload(nc_time_axis)"
   ]
  },
  {
   "cell_type": "markdown",
   "metadata": {},
   "source": [
    "### Nino 3.4 definition\n",
    "\n",
    "Niño 3.4 (5N-5S, 170W-120W):  The  Niño 3.4 anomalies may be thought of as representing the average equatorial SSTs across the Pacific from about the dateline to the South American coast.  The Niño 3.4 index typically uses a 5-month running mean, and El Niño or La  Niña events are defined when the  Niño 3.4 SSTs exceed +/- 0.4C for a period of six months or more.\n",
    "\n",
    "https://climatedataguide.ucar.edu/climate-data/nino-sst-indices-nino-12-3-34-4-oni-and-tni\n",
    "\n",
    "<img src=\"https://climatedataguide.ucar.edu/sites/default/files/users/dschneid/key_figures_428.png\">"
   ]
  },
  {
   "cell_type": "markdown",
   "metadata": {},
   "source": [
    "### Set coordinates"
   ]
  },
  {
   "cell_type": "code",
   "execution_count": 29,
   "metadata": {},
   "outputs": [],
   "source": [
    "minlat = -5\n",
    "maxlat = 5\n",
    "minlon = -170\n",
    "maxlon = -120"
   ]
  },
  {
   "cell_type": "markdown",
   "metadata": {},
   "source": [
    "#### Adjust longitudes if necessary"
   ]
  },
  {
   "cell_type": "code",
   "execution_count": 30,
   "metadata": {},
   "outputs": [],
   "source": [
    "if minlon < 0:\n",
    "    minlon = minlon + 360\n",
    "if maxlon < 0:\n",
    "    maxlon = maxlon + 360"
   ]
  },
  {
   "cell_type": "markdown",
   "metadata": {},
   "source": [
    "### Load data"
   ]
  },
  {
   "cell_type": "code",
   "execution_count": 31,
   "metadata": {},
   "outputs": [],
   "source": [
    "pathin = '/glade/collections/cmip/CMIP6/CMIP/NCAR/CESM2/1pctCO2/r1i1p1f1/Amon/ts/gn/latest'\n",
    "filein = 'ts_Amon_CESM2_1pctCO2_r1i1p1f1_gn_000101-005012.nc'\n",
    "# ds = xr.open_dataset(os.path.join(pathin,filein)).ts\n",
    "ds = xr.open_dataset(os.path.join(pathin,filein))\n",
    "time = ds.time"
   ]
  },
  {
   "cell_type": "code",
   "execution_count": 46,
   "metadata": {},
   "outputs": [],
   "source": [
    "# wa(ds,'ts',minlat,maxlat,minlon,maxlon)\n",
    "nino = nino34(ds,'ts','monthly')\n",
    "climo = xr.DataArray(np.random.rand(13, 1))"
   ]
  },
  {
   "cell_type": "code",
   "execution_count": 47,
   "metadata": {},
   "outputs": [
    {
     "data": {
      "text/plain": [
       "[<matplotlib.lines.Line2D at 0x2ae3c40a7780>]"
      ]
     },
     "execution_count": 47,
     "metadata": {},
     "output_type": "execute_result"
    },
    {
     "data": {
      "image/png": "[encoded data removed]",
      "text/plain": [
       "<Figure size 432x288 with 1 Axes>"
      ]
     },
     "metadata": {
      "needs_background": "light"
     },
     "output_type": "display_data"
    }
   ],
   "source": [
    "for m in range(1,13):\n",
    "     climo[m] = np.mean(nino[m::12])\n",
    "        \n",
    "climo.plot()"
   ]
  },
  {
   "cell_type": "code",
   "execution_count": 73,
   "metadata": {},
   "outputs": [
    {
     "ename": "ValueError",
     "evalue": "shape mismatch: value array of shape (50, 1) could not be broadcast to indexing result with 1 dimensions",
     "output_type": "error",
     "traceback": [
      "\u001b[0;31m---------------------------------------------------------------------------\u001b[0m",
      "\u001b[0;31mValueError\u001b[0m                                Traceback (most recent call last)",
      "\u001b[0;32m<ipython-input-73-79f0f73e9bd2>\u001b[0m in \u001b[0;36m<module>\u001b[0;34m\u001b[0m\n\u001b[1;32m     10\u001b[0m \u001b[0;31m#     nino[m::12].shape\u001b[0m\u001b[0;34m\u001b[0m\u001b[0;34m\u001b[0m\u001b[0;34m\u001b[0m\u001b[0m\n\u001b[1;32m     11\u001b[0m \u001b[0;31m#     nino_anom[m::12] = nino[m::12]-tmp1\u001b[0m\u001b[0;34m\u001b[0m\u001b[0;34m\u001b[0m\u001b[0;34m\u001b[0m\u001b[0m\n\u001b[0;32m---> 12\u001b[0;31m     \u001b[0mnino_anom\u001b[0m\u001b[0;34m[\u001b[0m\u001b[0mm\u001b[0m\u001b[0;34m:\u001b[0m\u001b[0;34m:\u001b[0m\u001b[0;36m12\u001b[0m\u001b[0;34m]\u001b[0m \u001b[0;34m=\u001b[0m \u001b[0mnino\u001b[0m\u001b[0;34m[\u001b[0m\u001b[0mm\u001b[0m\u001b[0;34m:\u001b[0m\u001b[0;34m:\u001b[0m\u001b[0;36m12\u001b[0m\u001b[0;34m]\u001b[0m\u001b[0;34m-\u001b[0m\u001b[0mclimo\u001b[0m\u001b[0;34m[\u001b[0m\u001b[0mm\u001b[0m\u001b[0;34m]\u001b[0m\u001b[0;34m\u001b[0m\u001b[0;34m\u001b[0m\u001b[0m\n\u001b[0m\u001b[1;32m     13\u001b[0m \u001b[0;34m\u001b[0m\u001b[0m\n\u001b[1;32m     14\u001b[0m \u001b[0;31m# #     nino_anom[m::12] = nino[m::12]-climo[m]\u001b[0m\u001b[0;34m\u001b[0m\u001b[0;34m\u001b[0m\u001b[0;34m\u001b[0m\u001b[0m\n",
      "\u001b[0;32m/ncar/usr/jupyterhub/envs/cmip6-201910a/lib/python3.7/site-packages/xarray/core/dataarray.py\u001b[0m in \u001b[0;36m__setitem__\u001b[0;34m(self, key, value)\u001b[0m\n\u001b[1;32m    656\u001b[0m                 \u001b[0;32mfor\u001b[0m \u001b[0mk\u001b[0m\u001b[0;34m,\u001b[0m \u001b[0mv\u001b[0m \u001b[0;32min\u001b[0m \u001b[0mself\u001b[0m\u001b[0;34m.\u001b[0m\u001b[0m_item_key_to_dict\u001b[0m\u001b[0;34m(\u001b[0m\u001b[0mkey\u001b[0m\u001b[0;34m)\u001b[0m\u001b[0;34m.\u001b[0m\u001b[0mitems\u001b[0m\u001b[0;34m(\u001b[0m\u001b[0;34m)\u001b[0m\u001b[0;34m\u001b[0m\u001b[0;34m\u001b[0m\u001b[0m\n\u001b[1;32m    657\u001b[0m             }\n\u001b[0;32m--> 658\u001b[0;31m             \u001b[0mself\u001b[0m\u001b[0;34m.\u001b[0m\u001b[0mvariable\u001b[0m\u001b[0;34m[\u001b[0m\u001b[0mkey\u001b[0m\u001b[0;34m]\u001b[0m \u001b[0;34m=\u001b[0m \u001b[0mvalue\u001b[0m\u001b[0;34m\u001b[0m\u001b[0;34m\u001b[0m\u001b[0m\n\u001b[0m\u001b[1;32m    659\u001b[0m \u001b[0;34m\u001b[0m\u001b[0m\n\u001b[1;32m    660\u001b[0m     \u001b[0;32mdef\u001b[0m \u001b[0m__delitem__\u001b[0m\u001b[0;34m(\u001b[0m\u001b[0mself\u001b[0m\u001b[0;34m,\u001b[0m \u001b[0mkey\u001b[0m\u001b[0;34m:\u001b[0m \u001b[0mAny\u001b[0m\u001b[0;34m)\u001b[0m \u001b[0;34m->\u001b[0m \u001b[0;32mNone\u001b[0m\u001b[0;34m:\u001b[0m\u001b[0;34m\u001b[0m\u001b[0;34m\u001b[0m\u001b[0m\n",
      "\u001b[0;32m/ncar/usr/jupyterhub/envs/cmip6-201910a/lib/python3.7/site-packages/xarray/core/variable.py\u001b[0m in \u001b[0;36m__setitem__\u001b[0;34m(self, key, value)\u001b[0m\n\u001b[1;32m    751\u001b[0m                     \u001b[0;34m\"shape mismatch: value array of shape %s could not be \"\u001b[0m\u001b[0;34m\u001b[0m\u001b[0;34m\u001b[0m\u001b[0m\n\u001b[1;32m    752\u001b[0m                     \u001b[0;34m\"broadcast to indexing result with %s dimensions\"\u001b[0m\u001b[0;34m\u001b[0m\u001b[0;34m\u001b[0m\u001b[0m\n\u001b[0;32m--> 753\u001b[0;31m                     \u001b[0;34m%\u001b[0m \u001b[0;34m(\u001b[0m\u001b[0mvalue\u001b[0m\u001b[0;34m.\u001b[0m\u001b[0mshape\u001b[0m\u001b[0;34m,\u001b[0m \u001b[0mlen\u001b[0m\u001b[0;34m(\u001b[0m\u001b[0mdims\u001b[0m\u001b[0;34m)\u001b[0m\u001b[0;34m)\u001b[0m\u001b[0;34m\u001b[0m\u001b[0;34m\u001b[0m\u001b[0m\n\u001b[0m\u001b[1;32m    754\u001b[0m                 )\n\u001b[1;32m    755\u001b[0m             \u001b[0;32mif\u001b[0m \u001b[0mvalue\u001b[0m\u001b[0;34m.\u001b[0m\u001b[0mndim\u001b[0m \u001b[0;34m==\u001b[0m \u001b[0;36m0\u001b[0m\u001b[0;34m:\u001b[0m\u001b[0;34m\u001b[0m\u001b[0;34m\u001b[0m\u001b[0m\n",
      "\u001b[0;31mValueError\u001b[0m: shape mismatch: value array of shape (50, 1) could not be broadcast to indexing result with 1 dimensions"
     ]
    }
   ],
   "source": [
    "nino_anom = nino;\n",
    "\n",
    "tmp1,tmp2 = xr.broadcast(climo[m],nino[m::12])\n",
    "tmp1.shape\n",
    "\n",
    "for m in range(0,12):\n",
    "#     print(m)\n",
    "    tmp1 = xr.broadcast(climo[m],nino[m::12])\n",
    "#     tmp1.shape\n",
    "#     nino[m::12].shape\n",
    "    nino_anom[m::12] = nino[m::12]-tmp1\n",
    "#     nino_anom[m::12] = nino[m::12]-climo[m]\n",
    "    \n",
    "# #     nino_anom[m::12] = nino[m::12]-climo[m]\n",
    "\n",
    "# nino_anom.plot()"
   ]
  },
  {
   "cell_type": "code",
   "execution_count": 70,
   "metadata": {},
   "outputs": [
    {
     "data": {
      "text/plain": [
       "(50,)"
      ]
     },
     "execution_count": 70,
     "metadata": {},
     "output_type": "execute_result"
    }
   ],
   "source": [
    "nino[m::12].shape"
   ]
  },
  {
   "cell_type": "markdown",
   "metadata": {},
   "source": [
    "### Subset data to Nino region\n",
    "#### I assume there's a more elegant way to do this, please insert if you know one"
   ]
  },
  {
   "cell_type": "code",
   "execution_count": 29,
   "metadata": {},
   "outputs": [],
   "source": [
    "nino = ds.where((minlon < ds.lon) & (ds.lon < maxlon) & (minlat < ds.lat) & (ds.lat < maxlat), drop=True)"
   ]
  },
  {
   "cell_type": "markdown",
   "metadata": {},
   "source": [
    "#### Also subset latitudes and longitudes"
   ]
  },
  {
   "cell_type": "code",
   "execution_count": 30,
   "metadata": {},
   "outputs": [],
   "source": [
    "lats = ds.lat.where((minlat < ds.lat) & (ds.lat < maxlat), drop=True)\n",
    "lons = ds.lon.where((minlon < ds.lon) & (ds.lon < maxlon), drop=True)"
   ]
  },
  {
   "cell_type": "markdown",
   "metadata": {},
   "source": [
    "### Check if subsetting worked"
   ]
  },
  {
   "cell_type": "code",
   "execution_count": 31,
   "metadata": {},
   "outputs": [
    {
     "data": {
      "text/plain": [
       "(600, 192, 288)"
      ]
     },
     "execution_count": 31,
     "metadata": {},
     "output_type": "execute_result"
    }
   ],
   "source": [
    "ds.shape"
   ]
  },
  {
   "cell_type": "code",
   "execution_count": 32,
   "metadata": {},
   "outputs": [
    {
     "data": {
      "text/plain": [
       "(600, 10, 39)"
      ]
     },
     "execution_count": 32,
     "metadata": {},
     "output_type": "execute_result"
    }
   ],
   "source": [
    "nino.shape"
   ]
  },
  {
   "cell_type": "code",
   "execution_count": 33,
   "metadata": {},
   "outputs": [
    {
     "data": {
      "text/plain": [
       "<matplotlib.collections.QuadMesh at 0x2b46c1085d30>"
      ]
     },
     "execution_count": 33,
     "metadata": {},
     "output_type": "execute_result"
    },
    {
     "data": {
      "image/png": "[encoded data removed]",
      "text/plain": [
       "<Figure size 432x288 with 2 Axes>"
      ]
     },
     "metadata": {
      "needs_background": "light"
     },
     "output_type": "display_data"
    }
   ],
   "source": [
    "nino[0,:,:].plot()"
   ]
  },
  {
   "cell_type": "markdown",
   "metadata": {},
   "source": [
    "### Compute area-weighted average\n",
    "#### First create weights"
   ]
  },
  {
   "cell_type": "code",
   "execution_count": 59,
   "metadata": {},
   "outputs": [],
   "source": [
    "latsr = np.deg2rad(lats)\n",
    "lat_weights = np.cos(latsr)"
   ]
  },
  {
   "cell_type": "code",
   "execution_count": 60,
   "metadata": {},
   "outputs": [
    {
     "data": {
      "text/plain": [
       "(10,)"
      ]
     },
     "execution_count": 60,
     "metadata": {},
     "output_type": "execute_result"
    }
   ],
   "source": [
    "lat_weights.shape"
   ]
  },
  {
   "cell_type": "markdown",
   "metadata": {},
   "source": [
    "#### Again, there's likely an cleaner way using \"broadcast\", but I couldn't get it to produce the right format (time x lat x lon) right away"
   ]
  },
  {
   "cell_type": "code",
   "execution_count": 61,
   "metadata": {},
   "outputs": [],
   "source": [
    "# weights = xr.broadcast(lat_weights,nino[0,:,:]) # <-- ignore\n",
    "\n",
    "dims = nino.shape\n",
    "# weights = np.transpose(np.matlib.repmat(lat_weights,dims[1],1))\n",
    "# weights = np.tile(lat_weights,[dims[0],dims[2],1])\n",
    "\n",
    "tmp1,tmp2 = xr.broadcast(lat_weights,nino,exclude=['lat'])\n",
    "weights = tmp1.transpose('time','lat','lon')"
   ]
  },
  {
   "cell_type": "markdown",
   "metadata": {},
   "source": [
    "#### Normalize weights"
   ]
  },
  {
   "cell_type": "code",
   "execution_count": 62,
   "metadata": {},
   "outputs": [],
   "source": [
    "weights = weights/np.sum(np.sum(weights,axis=1),axis=1)"
   ]
  },
  {
   "cell_type": "markdown",
   "metadata": {},
   "source": [
    "#### Multiply data with weights and sum up to obtain time series"
   ]
  },
  {
   "cell_type": "code",
   "execution_count": 65,
   "metadata": {},
   "outputs": [
    {
     "ename": "TypeError",
     "evalue": "'module' object is not callable",
     "output_type": "error",
     "traceback": [
      "\u001b[0;31m---------------------------------------------------------------------------\u001b[0m",
      "\u001b[0;31mTypeError\u001b[0m                                 Traceback (most recent call last)",
      "\u001b[0;32m<ipython-input-65-fd3cce46a718>\u001b[0m in \u001b[0;36m<module>\u001b[0;34m\u001b[0m\n\u001b[1;32m      1\u001b[0m \u001b[0mts\u001b[0m \u001b[0;34m=\u001b[0m \u001b[0mnp\u001b[0m\u001b[0;34m.\u001b[0m\u001b[0msum\u001b[0m\u001b[0;34m(\u001b[0m\u001b[0mnp\u001b[0m\u001b[0;34m.\u001b[0m\u001b[0msum\u001b[0m\u001b[0;34m(\u001b[0m\u001b[0;34m(\u001b[0m\u001b[0mnino\u001b[0m\u001b[0;34m*\u001b[0m\u001b[0mweights\u001b[0m\u001b[0;34m)\u001b[0m\u001b[0;34m,\u001b[0m\u001b[0maxis\u001b[0m\u001b[0;34m=\u001b[0m\u001b[0;36m1\u001b[0m\u001b[0;34m)\u001b[0m\u001b[0;34m,\u001b[0m\u001b[0maxis\u001b[0m\u001b[0;34m=\u001b[0m\u001b[0;36m1\u001b[0m\u001b[0;34m)\u001b[0m\u001b[0;34m\u001b[0m\u001b[0;34m\u001b[0m\u001b[0m\n\u001b[1;32m      2\u001b[0m \u001b[0mts\u001b[0m\u001b[0;34m.\u001b[0m\u001b[0mplot\u001b[0m\u001b[0;34m(\u001b[0m\u001b[0;34m)\u001b[0m\u001b[0;34m\u001b[0m\u001b[0;34m\u001b[0m\u001b[0m\n\u001b[0;32m----> 3\u001b[0;31m \u001b[0mtest\u001b[0m \u001b[0;34m=\u001b[0m \u001b[0mwa\u001b[0m\u001b[0;34m(\u001b[0m\u001b[0mnino\u001b[0m\u001b[0;34m,\u001b[0m\u001b[0mminlat\u001b[0m\u001b[0;34m,\u001b[0m\u001b[0mmaxlat\u001b[0m\u001b[0;34m,\u001b[0m\u001b[0mminlon\u001b[0m\u001b[0;34m,\u001b[0m\u001b[0mmaxlon\u001b[0m\u001b[0;34m)\u001b[0m\u001b[0;34m\u001b[0m\u001b[0;34m\u001b[0m\u001b[0m\n\u001b[0m",
      "\u001b[0;31mTypeError\u001b[0m: 'module' object is not callable"
     ]
    },
    {
     "data": {
      "image/png": "[encoded data removed]",
      "text/plain": [
       "<Figure size 432x288 with 1 Axes>"
      ]
     },
     "metadata": {
      "needs_background": "light"
     },
     "output_type": "display_data"
    }
   ],
   "source": [
    "ts = np.sum(np.sum((nino*weights),axis=1),axis=1)\n",
    "ts.plot()"
   ]
  },
  {
   "cell_type": "markdown",
   "metadata": {},
   "source": [
    "#### Compute DJF means"
   ]
  },
  {
   "cell_type": "code",
   "execution_count": 31,
   "metadata": {},
   "outputs": [
    {
     "name": "stderr",
     "output_type": "stream",
     "text": [
      "/ncar/usr/jupyterhub/envs/cmip6-201910a/lib/python3.7/site-packages/xarray/core/nanops.py:140: RuntimeWarning: Mean of empty slice\n",
      "  return np.nanmean(a, axis=axis, dtype=dtype)\n"
     ]
    },
    {
     "data": {
      "text/plain": [
       "<xarray.DataArray (time: 600)>\n",
       "array([298.25777809, 298.77277499, 299.45689579, 300.02997271,\n",
       "       300.46643681, 300.44929018, 300.13428371, 299.39361003,\n",
       "       298.46984437, 297.66094837, 297.79303889, 297.99147473,\n",
       "       297.98404209, 298.37884478, 299.13985417, 299.86300022,\n",
       "       300.13417336, 300.34779602, 300.2264993 , 299.90242519,\n",
       "       299.8878055 , 300.22498787, 300.75030665, 300.86787286,\n",
       "       300.87549093, 301.14163515, 301.31804442, 301.43046147,\n",
       "       301.08456468, 300.43725654, 299.65181962, 298.61958148,\n",
       "       297.58322285, 297.17382956, 297.13514972, 297.48972908,\n",
       "       297.62760476, 298.03455747, 298.52650474, 299.21825817,\n",
       "       299.6530549 , 299.75743018, 299.4147717 , 298.82003745,\n",
       "       298.56026174, 298.73478058, 298.81964278, 298.99177541,\n",
       "       299.19880448, 299.50618395, 299.86698631, 300.35108387,\n",
       "       300.67821508, 300.8226552 , 300.59591636, 299.96645332,\n",
       "       299.54814419, 299.57435868, 299.67411142, 299.88404056,\n",
       "       300.19526934, 300.70961273, 301.48989475, 302.02715266,\n",
       "       302.02216189, 301.29840705, 300.11993472, 299.40924204,\n",
       "       299.04853101, 298.60503855, 298.9165572 , 299.09565562,\n",
       "       299.46089087, 299.82563885, 299.93891712, 300.35620807,\n",
       "       301.04016178, 301.26020359, 300.83614209, 300.17245499,\n",
       "       299.85733797, 300.21359015, 300.90098358, 301.23406149,\n",
       "       301.47289991, 301.20729199, 301.58802431, 301.89601363,\n",
       "       302.38611976, 301.97321302, 301.45784879, 300.80159585,\n",
       "       300.64114501, 300.68805793, 301.16740949, 301.74086967,\n",
       "       301.95747699, 301.92729632, 301.5246291 , 301.77774079,\n",
       "       302.0120691 , 301.47366075, 300.74755849, 299.56419776,\n",
       "       299.13568728, 299.51324858, 299.76609416, 300.00572833,\n",
       "       300.26101304, 300.67465126, 301.2855612 , 301.6489295 ,\n",
       "       302.22498324, 302.0556771 , 301.54871626, 300.95768094,\n",
       "       300.76126075, 300.55251234, 300.97931936, 301.27795377,\n",
       "       301.59321528, 301.71587819, 301.47580577, 301.51461423,\n",
       "       301.29658851, 301.00886596, 300.2816441 , 299.02877103,\n",
       "       298.04681072, 297.51096622, 297.6923486 , 297.76417269,\n",
       "       297.68307936, 298.05594871, 299.22336473, 299.91582556,\n",
       "       300.18015061, 300.27446947, 300.15300015, 299.5786891 ,\n",
       "       299.19369362, 299.08002591, 299.56841862, 299.75701307,\n",
       "       299.7812303 , 300.16758317, 300.4183186 , 301.0955649 ,\n",
       "       301.26652218, 301.00097411, 300.59028824, 299.75741682,\n",
       "       298.96195997, 299.01567827, 299.71499627, 300.26285019,\n",
       "       300.42532269, 300.80252849, 301.40314645, 302.16714598,\n",
       "       302.82862121, 302.96001374, 302.83837019, 302.42491254,\n",
       "       301.76735437, 301.8499974 , 302.18107901, 302.43441376,\n",
       "       302.82696523, 302.68139385, 302.25779962, 302.03600024,\n",
       "       301.71555148, 300.89813808, 299.8373392 , 298.71350599,\n",
       "       298.19880026, 297.89651271, 298.14535669, 298.18550529,\n",
       "       298.22596215, 298.78191326, 298.97292845, 299.62347032,\n",
       "       300.30803067, 300.37060353, 300.18827946, 299.54036262,\n",
       "       299.08278784, 299.16870344, 299.19720956, 299.49345227,\n",
       "       299.73526218, 300.26874727, 301.04694138, 301.56153284,\n",
       "       301.83689573, 301.82889032, 301.63884385, 301.12500573,\n",
       "       300.87833543, 300.96123471, 301.35211947, 301.6083695 ,\n",
       "       301.80400637, 302.07153957, 302.10370285, 302.14074751,\n",
       "       301.58280588, 300.64044581, 299.57038457, 298.55679025,\n",
       "       297.39971835, 296.66792512, 296.7889676 , 297.37626098,\n",
       "       297.79682193, 298.32706317, 299.07609186, 299.69676237,\n",
       "       299.97943801, 300.03736665, 299.96238863, 299.66776279,\n",
       "       299.62211994, 299.56271308, 299.9779287 , 300.29692872,\n",
       "       300.38186067, 300.81586087, 301.30345737, 301.68901443,\n",
       "       302.09361624, 302.19189648, 301.62865007, 300.66222183,\n",
       "       299.86951917, 299.42051479, 299.45761217, 299.59601139,\n",
       "       299.75231891, 300.12957105, 300.89015932, 301.47549126,\n",
       "       301.76646841, 301.65250189, 301.05892278, 300.3117548 ,\n",
       "       299.74644403, 299.44968707, 299.81187923, 300.00475644,\n",
       "       300.1024389 , 300.44917245, 300.87390184, 301.55013869,\n",
       "       302.01331203, 302.02518541, 301.35881173, 300.27490874,\n",
       "       299.90434486, 299.90782123, 300.32140998, 300.83652804,\n",
       "       301.08767433, 301.3925426 , 302.22225506, 302.90131968,\n",
       "       303.33810053, 303.63516131, 303.51982194, 303.22246865,\n",
       "       302.73172045, 302.84703545, 303.36050696, 303.95749167,\n",
       "       303.91712023, 303.63472428, 303.317347  , 303.17539184,\n",
       "       302.73495944, 301.62707369, 300.1924421 , 298.75716606,\n",
       "       297.77130931, 297.46599236, 297.74242081, 298.01590282,\n",
       "       298.29333107, 298.99302833, 299.12990578, 299.45678069,\n",
       "       300.23328577, 300.32809361, 299.92966048, 299.16647877,\n",
       "       298.74489498, 298.5481672 , 298.2203126 , 298.41243167,\n",
       "       298.64541344, 299.04982174, 299.68330803, 300.37942375,\n",
       "       301.15233066, 301.36202481, 301.31850561, 301.02819631,\n",
       "       300.80776866, 301.06955902, 301.4588756 , 301.65148749,\n",
       "       301.89847948, 302.13797313, 302.33858413, 302.69502007,\n",
       "       302.15402286, 301.51259738, 300.10389455, 298.68359019,\n",
       "       297.72469709, 297.10471776, 297.15123084, 297.16602253,\n",
       "       297.35221478, 297.91938278, 298.92728939, 299.63808914,\n",
       "       300.021293  , 299.99196797, 299.70587969, 299.15967494,\n",
       "       298.51062907, 298.219636  , 298.02223038, 298.16366897,\n",
       "       298.45273852, 298.9972603 , 299.98899536, 300.50733432,\n",
       "       300.77891545, 300.72889955, 300.24235841, 299.29931965,\n",
       "       298.84146676, 299.09902351, 299.17203045, 299.37574779,\n",
       "       299.74169408, 300.13186874, 300.61765159, 301.20608149,\n",
       "       301.85374211, 302.02554772, 301.70196741, 300.97169233,\n",
       "       300.59771495, 300.71444973, 301.21469931, 301.52566428,\n",
       "       301.65739061, 301.84212557, 302.38395439, 302.6819962 ,\n",
       "       302.66792889, 302.38061124, 301.24468472, 300.18550836,\n",
       "       299.5044217 , 299.06741853, 299.27927636, 299.5114642 ,\n",
       "       299.52863542, 299.87323277, 300.62381516, 301.10111657,\n",
       "       301.04481461, 300.79304372, 300.2346722 , 299.50362365,\n",
       "       298.5023558 , 297.83335598, 298.02447203, 298.10251946,\n",
       "       298.26753443, 298.56411823, 299.43411548, 300.39283492,\n",
       "       300.90804849, 301.06085635, 300.9109892 , 300.40835231,\n",
       "       300.19650521, 300.43452038, 300.77352002, 301.21109643,\n",
       "       301.5876822 , 302.05367672, 302.52465839, 302.92363726,\n",
       "       302.97505199, 302.71158146, 302.16664306, 301.35085171,\n",
       "       300.81377011, 300.59637386, 300.99887552, 301.33439881,\n",
       "       301.72481085, 302.07139532, 302.09193162, 302.51037084,\n",
       "       302.67636703, 302.39503665, 301.24334028, 300.12339304,\n",
       "       299.28957001, 299.28576005, 299.53606827, 299.86434847,\n",
       "       299.80431167, 300.24332562, 300.80899364, 301.48018771,\n",
       "       302.23771924, 302.57669763, 302.41291396, 301.94917867,\n",
       "       301.66678964, 302.10394889, 302.65151056, 303.06760738,\n",
       "       303.29074961, 303.75416259, 303.97397095, 303.73127649,\n",
       "       303.4838606 , 303.17690412, 302.62711241, 301.70903956,\n",
       "       300.71790757, 300.37650367, 300.47275328, 300.51813701,\n",
       "       300.227366  , 300.26292559, 300.42451614, 299.91286669,\n",
       "       300.13090954, 299.88480365, 299.50616519, 298.71659313,\n",
       "       297.50416875, 296.88561236, 297.08173324, 297.15552719,\n",
       "       297.38012993, 298.15569141, 299.60113737, 300.17168667,\n",
       "       300.29648838, 300.35112893, 300.13778438, 299.46248756,\n",
       "       299.09945473, 299.08077473, 299.32882324, 299.78497902,\n",
       "       300.21315308, 300.81795684, 301.26412048, 301.64176488,\n",
       "       302.3022745 , 302.64275539, 302.39689982, 301.6532033 ,\n",
       "       301.3282492 , 301.5609197 , 301.93815409, 302.30180879,\n",
       "       302.48064754, 302.76489928, 303.25707766, 303.6648878 ,\n",
       "       303.9936005 , 304.20502338, 303.87975525, 303.00563982,\n",
       "       302.17664888, 302.20523211, 302.4714533 , 302.76064951,\n",
       "       303.05088693, 303.16492201, 302.72695735, 302.42986626,\n",
       "       302.04424319, 300.77906248, 298.71990628, 296.96875571,\n",
       "       295.99780156, 295.82561545, 296.12455995, 296.51162394,\n",
       "       296.94390377, 297.63857091, 298.70354522, 299.36353852,\n",
       "       299.71305281, 299.67505069, 299.49758587, 299.13141952,\n",
       "       298.73760327, 298.77895375, 299.10804733, 299.42992757,\n",
       "       299.62950595, 300.16788271, 300.79570832, 301.36114382,\n",
       "       301.87269374, 302.06304171, 301.25490621, 300.28126853,\n",
       "       299.47277822, 299.12854795, 299.45000465, 299.72984502,\n",
       "       299.97188226, 300.60718417, 300.91078286, 301.41006531,\n",
       "       302.09589571, 302.16450314, 301.67117525, 301.03602675,\n",
       "       300.59952688, 300.98828364, 301.45671149, 301.89473225,\n",
       "       302.16058258, 302.54768924, 302.97212828, 303.3409498 ,\n",
       "       303.4629182 , 302.98402697, 301.98633775, 300.85021976,\n",
       "       300.10591338, 299.5234201 , 299.89861605, 299.94386966,\n",
       "       300.01293193, 300.47364765, 301.12002972, 301.15532914,\n",
       "       301.63964095, 301.61093158, 301.2190298 , 300.34204762,\n",
       "       299.78075   , 299.429548  , 299.6647911 , 299.9689353 ,\n",
       "       300.08195881, 300.31626099, 300.7162582 , 301.14185432,\n",
       "       301.64445371, 301.84346039, 301.49380361, 300.82740418,\n",
       "       300.34874763, 300.2439775 , 300.93460959, 301.34657282,\n",
       "       301.71394743, 301.92228288, 302.08794853, 302.65601564,\n",
       "       303.39747018, 303.61693008, 303.4762686 , 303.08564428,\n",
       "       302.63693418, 302.65330992, 303.58785376, 303.8821468 ,\n",
       "       304.10254954, 303.90865234, 303.36952806, 302.83892882,\n",
       "       302.93239633, 302.30368803, 300.16821612, 298.33722447,\n",
       "       297.47803914, 297.66728737, 298.23526046, 298.22200812])\n",
       "Coordinates:\n",
       "  * time     (time) object 0001-01-15 12:00:00 ... 0050-12-15 12:00:00"
      ]
     },
     "execution_count": 31,
     "metadata": {},
     "output_type": "execute_result"
    }
   ],
   "source": [
    "ts_DJF = ts.where(ts['time.season'] == 'DJF')\n",
    "ts_DJF = ts_DJF.rolling(min_periods=3, center=True, time=3).mean()\n",
    "ts_DJF = ts_DJF.groupby('time.year').mean('time')\n",
    "# ts.plot()\n",
    "# ts_DJF.plot()\n",
    "# plt.show()\n",
    "ts_DJF\n",
    "ts"
   ]
  },
  {
   "cell_type": "code",
   "execution_count": null,
   "metadata": {},
   "outputs": [],
   "source": []
  }
 ],
 "metadata": {
  "kernelspec": {
   "display_name": "CMIP6 2019.10a",
   "language": "python",
   "name": "cmip6-201910a"
  },
  "language_info": {
   "codemirror_mode": {
    "name": "ipython",
    "version": 3
   },
   "file_extension": ".py",
   "mimetype": "text/x-python",
   "name": "python",
   "nbconvert_exporter": "python",
   "pygments_lexer": "ipython3",
   "version": "3.7.3"
  }
 },
 "nbformat": 4,
 "nbformat_minor": 4
}
