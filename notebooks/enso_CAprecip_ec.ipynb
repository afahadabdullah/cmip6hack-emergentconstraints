{
 "cells": [
  {
   "cell_type": "code",
   "execution_count": 1,
   "metadata": {},
   "outputs": [],
   "source": [
    "#!pip install -u geopandas\n",
    "#!pip install -u regionmask"
   ]
  },
  {
   "cell_type": "code",
   "execution_count": 2,
   "metadata": {},
   "outputs": [
    {
     "name": "stdout",
     "output_type": "stream",
     "text": [
      "you have successfully imported the jet latitude calculation subroutines\n"
     ]
    }
   ],
   "source": [
    "# Loading libraries\n",
    "%matplotlib inline\n",
    "import matplotlib.pyplot as plt\n",
    "import numpy as np\n",
    "import xarray as xr\n",
    "import xesmf as xe\n",
    "import dask\n",
    "import season_util as su\n",
    "import jetlatcalcs as jlat\n",
    "import mask"
   ]
  },
  {
   "cell_type": "code",
   "execution_count": 3,
   "metadata": {},
   "outputs": [],
   "source": [
    "import warnings\n",
    "warnings.filterwarnings(\"ignore\")"
   ]
  },
  {
   "cell_type": "markdown",
   "metadata": {},
   "source": [
    "#### Find/read ts data:"
   ]
  },
  {
   "cell_type": "code",
   "execution_count": 4,
   "metadata": {},
   "outputs": [
    {
     "name": "stdout",
     "output_type": "stream",
     "text": [
      "--> The keys in the returned dictionary of datasets are constructed as follows:\n",
      "\t'activity_id.institution_id.source_id.experiment_id.table_id.grid_label'\n",
      "\n",
      "--> There will be 7 group(s)\n"
     ]
    }
   ],
   "source": [
    "#historical simulations\n",
    "import intake\n",
    "var1 = [\"ts\"]\n",
    "model=['AWI-CM-1-MR','BCC-CSM2-MR','CAMS-CSM1-0', 'CanESM5','MIROC-ES2L','MIROC6','UKESM1-0-LL','MRI-ESM2-0']\n",
    "col = intake.open_esm_datastore(\"/glade/collections/cmip/catalog/intake-esm-datastore/catalogs/glade-cmip6.json\")\n",
    "cat = col.search(activity_id=\"CMIP\",experiment_id=\"historical\", variable_id=var1,\n",
    "table_id=\"Amon\", grid_label=\"gn\", source_id=model )\n",
    "dset_dict_hist_ts = cat.to_dataset_dict(cdf_kwargs={'chunks': {\"time\": 36}})"
   ]
  },
  {
   "cell_type": "code",
   "execution_count": 5,
   "metadata": {},
   "outputs": [
    {
     "name": "stdout",
     "output_type": "stream",
     "text": [
      "--> The keys in the returned dictionary of datasets are constructed as follows:\n",
      "\t'activity_id.institution_id.source_id.experiment_id.table_id.grid_label'\n",
      "\n",
      "--> There will be 5 group(s)\n"
     ]
    }
   ],
   "source": [
    "#ssp simulations\n",
    "col = intake.open_esm_datastore(\"/glade/collections/cmip/catalog/intake-esm-datastore/catalogs/glade-cmip6.json\")\n",
    "cat = col.search(activity_id=\"ScenarioMIP\",experiment_id=\"ssp370\", variable_id=var1,\n",
    "table_id=\"Amon\", grid_label=\"gn\", source_id=model )\n",
    "dset_dict_ssp370_ts = cat.to_dataset_dict(cdf_kwargs={'chunks': {\"time\": 36}})"
   ]
  },
  {
   "cell_type": "markdown",
   "metadata": {},
   "source": [
    "#### Calculate Nino3.4 time series:"
   ]
  },
  {
   "cell_type": "code",
   "execution_count": 6,
   "metadata": {},
   "outputs": [],
   "source": [
    "#subset for time period (1948 through 2014)\n",
    "hist_ts = {}\n",
    "for key, ds in dset_dict_hist_ts.items():\n",
    "    hist_ts[key] = ds.sel(time = slice('1948-01-01','2015-01-01'))"
   ]
  },
  {
   "cell_type": "code",
   "execution_count": 7,
   "metadata": {},
   "outputs": [],
   "source": [
    "from nino34 import nino34"
   ]
  },
  {
   "cell_type": "code",
   "execution_count": 8,
   "metadata": {},
   "outputs": [
    {
     "name": "stdout",
     "output_type": "stream",
     "text": [
      "CMIP.BCC.BCC-CSM2-MR.historical.Amon.gn\n",
      "CMIP.CAMS.CAMS-CSM1-0.historical.Amon.gn\n",
      "CMIP.CCCma.CanESM5.historical.Amon.gn\n",
      "CMIP.MIROC.MIROC-ES2L.historical.Amon.gn\n",
      "CMIP.MIROC.MIROC6.historical.Amon.gn\n",
      "CMIP.MOHC.UKESM1-0-LL.historical.Amon.gn\n",
      "CMIP.MRI.MRI-ESM2-0.historical.Amon.gn\n"
     ]
    }
   ],
   "source": [
    "# usage: nino = nino34(da,'ts','DJF')\n",
    "hist_nino = {}\n",
    "for key in hist_ts:\n",
    "    print(key)\n",
    "    hist_nino[key] = nino34(hist_ts[key], 'ts', 'DJF')\n",
    "    ## add days per month weighting in DJF calc"
   ]
  },
  {
   "cell_type": "code",
   "execution_count": 19,
   "metadata": {},
   "outputs": [
    {
     "data": {
      "text/plain": [
       "{'CMIP.BCC.BCC-CSM2-MR.historical.Amon.gn': <xarray.DataArray (member_id: 3, year: 67)>\n",
       " dask.array<truediv, shape=(3, 67), dtype=float64, chunksize=(1, 1), chunktype=numpy.ndarray>\n",
       " Coordinates:\n",
       "   * member_id  (member_id) <U8 'r2i1p1f1' 'r1i1p1f1' 'r3i1p1f1'\n",
       "   * year       (year) int64 1948 1949 1950 1951 1952 ... 2011 2012 2013 2014,\n",
       " 'CMIP.CAMS.CAMS-CSM1-0.historical.Amon.gn': <xarray.DataArray (member_id: 2, year: 67)>\n",
       " dask.array<truediv, shape=(2, 67), dtype=float64, chunksize=(1, 1), chunktype=numpy.ndarray>\n",
       " Coordinates:\n",
       "   * member_id  (member_id) <U8 'r2i1p1f1' 'r1i1p1f1'\n",
       "   * year       (year) int64 1948 1949 1950 1951 1952 ... 2011 2012 2013 2014,\n",
       " 'CMIP.CCCma.CanESM5.historical.Amon.gn': <xarray.DataArray (member_id: 44, year: 67)>\n",
       " dask.array<truediv, shape=(44, 67), dtype=float64, chunksize=(1, 1), chunktype=numpy.ndarray>\n",
       " Coordinates:\n",
       "   * member_id  (member_id) <U9 'r2i1p1f1' 'r5i1p1f1' ... 'r18i1p1f1' 'r6i1p1f1'\n",
       "   * year       (year) int64 1948 1949 1950 1951 1952 ... 2011 2012 2013 2014,\n",
       " 'CMIP.MIROC.MIROC-ES2L.historical.Amon.gn': <xarray.DataArray (member_id: 1, year: 67)>\n",
       " dask.array<truediv, shape=(1, 67), dtype=float64, chunksize=(1, 1), chunktype=numpy.ndarray>\n",
       " Coordinates:\n",
       "   * member_id  (member_id) <U8 'r3i1p1f2'\n",
       "   * year       (year) int64 1948 1949 1950 1951 1952 ... 2011 2012 2013 2014,\n",
       " 'CMIP.MIROC.MIROC6.historical.Amon.gn': <xarray.DataArray (member_id: 10, year: 67)>\n",
       " dask.array<truediv, shape=(10, 67), dtype=float64, chunksize=(1, 1), chunktype=numpy.ndarray>\n",
       " Coordinates:\n",
       "   * member_id  (member_id) <U9 'r2i1p1f1' 'r5i1p1f1' ... 'r7i1p1f1' 'r6i1p1f1'\n",
       "   * year       (year) int64 1948 1949 1950 1951 1952 ... 2011 2012 2013 2014,\n",
       " 'CMIP.MOHC.UKESM1-0-LL.historical.Amon.gn': <xarray.DataArray (member_id: 9, year: 67)>\n",
       " dask.array<truediv, shape=(9, 67), dtype=float64, chunksize=(1, 1), chunktype=numpy.ndarray>\n",
       " Coordinates:\n",
       "   * member_id  (member_id) <U8 'r3i1p1f2' 'r5i1p1f3' ... 'r2i1p1f2' 'r6i1p1f3'\n",
       "   * year       (year) int64 1948 1949 1950 1951 1952 ... 2011 2012 2013 2014,\n",
       " 'CMIP.MRI.MRI-ESM2-0.historical.Amon.gn': <xarray.DataArray (member_id: 5, year: 67)>\n",
       " dask.array<truediv, shape=(5, 67), dtype=float64, chunksize=(1, 1), chunktype=numpy.ndarray>\n",
       " Coordinates:\n",
       "   * member_id  (member_id) <U8 'r2i1p1f1' 'r5i1p1f1' ... 'r4i1p1f1' 'r3i1p1f1'\n",
       "   * year       (year) int64 1948 1949 1950 1951 1952 ... 2011 2012 2013 2014}"
      ]
     },
     "execution_count": 19,
     "metadata": {},
     "output_type": "execute_result"
    }
   ],
   "source": [
    "#hist_nino"
   ]
  },
  {
   "cell_type": "code",
   "execution_count": null,
   "metadata": {},
   "outputs": [],
   "source": []
  },
  {
   "cell_type": "markdown",
   "metadata": {},
   "source": [
    "#### Find/read pr data:"
   ]
  },
  {
   "cell_type": "code",
   "execution_count": 10,
   "metadata": {},
   "outputs": [
    {
     "name": "stdout",
     "output_type": "stream",
     "text": [
      "--> The keys in the returned dictionary of datasets are constructed as follows:\n",
      "\t'activity_id.institution_id.source_id.experiment_id.table_id.grid_label'\n",
      "\n",
      "--> There will be 7 group(s)\n"
     ]
    }
   ],
   "source": [
    "#historical simulations\n",
    "import intake\n",
    "var2 = [\"pr\"]\n",
    "model=['AWI-CM-1-MR','BCC-CSM2-MR','CAMS-CSM1-0', 'CanESM5','MIROC-ES2L','MIROC6','UKESM1-0-LL','MRI-ESM2-0']\n",
    "col = intake.open_esm_datastore(\"/glade/collections/cmip/catalog/intake-esm-datastore/catalogs/glade-cmip6.json\")\n",
    "cat = col.search(activity_id=\"CMIP\",experiment_id=\"historical\", variable_id=var2,\n",
    "table_id=\"Amon\", grid_label=\"gn\", source_id=model )\n",
    "dset_dict_hist = cat.to_dataset_dict(cdf_kwargs={'chunks': {\"time\": 36}})"
   ]
  },
  {
   "cell_type": "code",
   "execution_count": 11,
   "metadata": {},
   "outputs": [
    {
     "name": "stdout",
     "output_type": "stream",
     "text": [
      "--> The keys in the returned dictionary of datasets are constructed as follows:\n",
      "\t'activity_id.institution_id.source_id.experiment_id.table_id.grid_label'\n",
      "\n",
      "--> There will be 7 group(s)\n"
     ]
    }
   ],
   "source": [
    "#ssp simulations\n",
    "col = intake.open_esm_datastore(\"/glade/collections/cmip/catalog/intake-esm-datastore/catalogs/glade-cmip6.json\")\n",
    "cat = col.search(activity_id=\"ScenarioMIP\",experiment_id=\"ssp370\", variable_id=var2,\n",
    "table_id=\"Amon\", grid_label=\"gn\", source_id=model )\n",
    "dset_dict_ssp370 = cat.to_dataset_dict(cdf_kwargs={'chunks': {\"time\": 36}})"
   ]
  },
  {
   "cell_type": "code",
   "execution_count": 12,
   "metadata": {},
   "outputs": [],
   "source": [
    "#subset for time period (1948 through 2014)\n",
    "hist = {}\n",
    "for key, ds in dset_dict_hist.items():\n",
    "    hist[key] = ds.sel(time = slice('1948-01-01','2015-01-01'))"
   ]
  },
  {
   "cell_type": "code",
   "execution_count": null,
   "metadata": {},
   "outputs": [],
   "source": []
  },
  {
   "cell_type": "code",
   "execution_count": 13,
   "metadata": {},
   "outputs": [],
   "source": [
    "## check attributes of pr variable. units are kg m-2 s-1\n",
    "#dset_dict_hist['CMIP.BCC.BCC-CSM2-MR.historical.Amon.gn'].pr"
   ]
  },
  {
   "cell_type": "code",
   "execution_count": 14,
   "metadata": {},
   "outputs": [],
   "source": [
    "## testing mask\n",
    "#ds = hist['CMIP.BCC.BCC-CSM2-MR.historical.Amon.gn']\n",
    "#ca_mask = mask.state_mask(mask.read_state(\"../data/states.shp\", 'California'), ds, 'California', 'CA')\n",
    "#ds.where(ca_mask == 1)"
   ]
  },
  {
   "cell_type": "markdown",
   "metadata": {},
   "source": [
    "#### Calculate DJF precip time series for California:"
   ]
  },
  {
   "cell_type": "code",
   "execution_count": 15,
   "metadata": {},
   "outputs": [
    {
     "name": "stdout",
     "output_type": "stream",
     "text": [
      "CMIP.BCC.BCC-CSM2-MR.historical.Amon.gn\n",
      "CMIP.CAMS.CAMS-CSM1-0.historical.Amon.gn\n",
      "CMIP.CCCma.CanESM5.historical.Amon.gn\n",
      "CMIP.MIROC.MIROC-ES2L.historical.Amon.gn\n",
      "CMIP.MIROC.MIROC6.historical.Amon.gn\n",
      "CMIP.MOHC.UKESM1-0-LL.historical.Amon.gn\n",
      "CMIP.MRI.MRI-ESM2-0.historical.Amon.gn\n"
     ]
    }
   ],
   "source": [
    "hist_ca_pr = {}\n",
    "for key in hist:\n",
    "    print(key)\n",
    "    ca_mask = mask.state_mask(mask.read_state(\"../data/states.shp\", 'California'), hist[key], 'California', 'CA')\n",
    "    hist_ca_pr[key] = su.season_ts((hist[key].where(ca_mask == 1)), \"pr\", \"DJF\").mean(dim=('lat', 'lon'))\n",
    "## add days per month weighting and areacella weighting"
   ]
  },
  {
   "cell_type": "code",
   "execution_count": 21,
   "metadata": {},
   "outputs": [],
   "source": [
    "# look at ca precip time series\n",
    "#hist_ca_pr"
   ]
  },
  {
   "cell_type": "markdown",
   "metadata": {},
   "source": [
    "#### Detrend time series"
   ]
  },
  {
   "cell_type": "markdown",
   "metadata": {},
   "source": [
    "#### Calculate interannual correlation between Nino3.4 and CA DJF precip: "
   ]
  },
  {
   "cell_type": "code",
   "execution_count": null,
   "metadata": {},
   "outputs": [],
   "source": []
  },
  {
   "cell_type": "markdown",
   "metadata": {},
   "source": [
    "#### Calculate mean correlation across ensembles members within each model:"
   ]
  },
  {
   "cell_type": "code",
   "execution_count": 17,
   "metadata": {},
   "outputs": [],
   "source": [
    "#hist_emean = {}\n",
    "#for key, ds in dset_dict_hist.items():\n",
    "#    hist_mean[key] = ds.sel(time = slice('1979-01-01','2006-01-01')).mean(dim=[\"member_id\"])\n",
    "    \n",
    "#ssp370_emean = {}\n",
    "#for key, ds in dset_dict_ssp370.items():\n",
    "#ssp370_mean[key] = ds.sel(time = slice('2070-01-01','2099-01-01')).mean(dim=[\"member_id\"])"
   ]
  },
  {
   "cell_type": "markdown",
   "metadata": {},
   "source": [
    "#### Calculate mean DJF precip in historical and future periods: "
   ]
  },
  {
   "cell_type": "code",
   "execution_count": 18,
   "metadata": {},
   "outputs": [
    {
     "ename": "NameError",
     "evalue": "name 'hist_emean' is not defined",
     "output_type": "error",
     "traceback": [
      "\u001b[0;31m---------------------------------------------------------------------------\u001b[0m",
      "\u001b[0;31mNameError\u001b[0m                                 Traceback (most recent call last)",
      "\u001b[0;32m<ipython-input-18-660649657235>\u001b[0m in \u001b[0;36m<module>\u001b[0;34m\u001b[0m\n\u001b[1;32m      1\u001b[0m \u001b[0;31m### ADD TIME SUBSETTING!!!!\u001b[0m\u001b[0;34m\u001b[0m\u001b[0;34m\u001b[0m\u001b[0;34m\u001b[0m\u001b[0m\n\u001b[1;32m      2\u001b[0m \u001b[0mhist_ca_mean\u001b[0m \u001b[0;34m=\u001b[0m \u001b[0;34m{\u001b[0m\u001b[0;34m}\u001b[0m\u001b[0;34m\u001b[0m\u001b[0;34m\u001b[0m\u001b[0m\n\u001b[0;32m----> 3\u001b[0;31m \u001b[0;32mfor\u001b[0m \u001b[0mkey\u001b[0m \u001b[0;32min\u001b[0m \u001b[0mhist_emean\u001b[0m\u001b[0;34m[\u001b[0m\u001b[0;36m0\u001b[0m\u001b[0;34m]\u001b[0m\u001b[0;34m:\u001b[0m\u001b[0;34m\u001b[0m\u001b[0;34m\u001b[0m\u001b[0m\n\u001b[0m\u001b[1;32m      4\u001b[0m     \u001b[0mca_mask\u001b[0m \u001b[0;34m=\u001b[0m \u001b[0mmask\u001b[0m\u001b[0;34m.\u001b[0m\u001b[0mstate_mask\u001b[0m\u001b[0;34m(\u001b[0m\u001b[0mmask\u001b[0m\u001b[0;34m.\u001b[0m\u001b[0mread_state\u001b[0m\u001b[0;34m(\u001b[0m\u001b[0;34m\"../data/states.shp\"\u001b[0m\u001b[0;34m,\u001b[0m \u001b[0;34m'California'\u001b[0m\u001b[0;34m)\u001b[0m\u001b[0;34m,\u001b[0m \u001b[0mhist_emean\u001b[0m\u001b[0;34m[\u001b[0m\u001b[0;36m0\u001b[0m\u001b[0;34m]\u001b[0m\u001b[0;34m[\u001b[0m\u001b[0mkey\u001b[0m\u001b[0;34m]\u001b[0m\u001b[0;34m,\u001b[0m \u001b[0;34m'California'\u001b[0m\u001b[0;34m,\u001b[0m \u001b[0;34m'CA'\u001b[0m\u001b[0;34m)\u001b[0m\u001b[0;34m\u001b[0m\u001b[0;34m\u001b[0m\u001b[0m\n\u001b[1;32m      5\u001b[0m     \u001b[0mhist_ca_mean\u001b[0m\u001b[0;34m[\u001b[0m\u001b[0mkey\u001b[0m\u001b[0;34m]\u001b[0m \u001b[0;34m=\u001b[0m \u001b[0msu\u001b[0m\u001b[0;34m.\u001b[0m\u001b[0mseason_mean\u001b[0m\u001b[0;34m(\u001b[0m\u001b[0;34m(\u001b[0m\u001b[0mhist_emean\u001b[0m\u001b[0;34m[\u001b[0m\u001b[0;36m0\u001b[0m\u001b[0;34m]\u001b[0m\u001b[0;34m[\u001b[0m\u001b[0mkey\u001b[0m\u001b[0;34m]\u001b[0m\u001b[0;34m*\u001b[0m\u001b[0mca_mask\u001b[0m\u001b[0;34m)\u001b[0m\u001b[0;34m,\u001b[0m \u001b[0mvar\u001b[0m\u001b[0;34m=\u001b[0m\u001b[0;34m\"pr\"\u001b[0m\u001b[0;34m,\u001b[0m \u001b[0mseason\u001b[0m\u001b[0;34m=\u001b[0m\u001b[0;34m\"DJF\"\u001b[0m\u001b[0;34m)\u001b[0m\u001b[0;34m.\u001b[0m\u001b[0mmean\u001b[0m\u001b[0;34m(\u001b[0m\u001b[0mdim\u001b[0m\u001b[0;34m=\u001b[0m\u001b[0;34m(\u001b[0m\u001b[0;34m'lat'\u001b[0m\u001b[0;34m,\u001b[0m \u001b[0;34m'lon'\u001b[0m\u001b[0;34m)\u001b[0m\u001b[0;34m)\u001b[0m\u001b[0;34m\u001b[0m\u001b[0;34m\u001b[0m\u001b[0m\n",
      "\u001b[0;31mNameError\u001b[0m: name 'hist_emean' is not defined"
     ]
    }
   ],
   "source": [
    "### ADD TIME SUBSETTING!!!!\n",
    "hist_ca_mean = {}\n",
    "for key in hist{}[0]:\n",
    "    ca_mask = mask.state_mask(mask.read_state(\"../data/states.shp\", 'California'), hist_emean[0][key], 'California', 'CA')\n",
    "    hist_ca_mean[key] = su.season_mean((hist_emean[0][key]*ca_mask), var=\"pr\", season=\"DJF\").mean(dim=('lat', 'lon'))\n",
    "\n",
    "ssp370_ca_mean = {}\n",
    "for key in ssp370_emean[0]:\n",
    "    ca_mask = mask.state_mask(mask.read_state(\"../data/states.shp\", 'California'), ssp370_emean[0][key], 'California', 'CA')\n",
    "    ssp370_ca_mean[key] = su.season_mean((ssp370_emean[0][key]*ca_mask), var=\"pr\", season=\"DJF\").mean(dim=('lat', 'lon'))"
   ]
  },
  {
   "cell_type": "markdown",
   "metadata": {},
   "source": [
    "### Plot something:"
   ]
  },
  {
   "cell_type": "code",
   "execution_count": null,
   "metadata": {},
   "outputs": [],
   "source": []
  },
  {
   "cell_type": "code",
   "execution_count": null,
   "metadata": {},
   "outputs": [],
   "source": []
  },
  {
   "cell_type": "code",
   "execution_count": null,
   "metadata": {},
   "outputs": [],
   "source": []
  }
 ],
 "metadata": {
  "kernelspec": {
   "display_name": "CMIP6 2019.10a",
   "language": "python",
   "name": "cmip6-201910a"
  },
  "language_info": {
   "codemirror_mode": {
    "name": "ipython",
    "version": 3
   },
   "file_extension": ".py",
   "mimetype": "text/x-python",
   "name": "python",
   "nbconvert_exporter": "python",
   "pygments_lexer": "ipython3",
   "version": "3.7.3"
  }
 },
 "nbformat": 4,
 "nbformat_minor": 4
}
