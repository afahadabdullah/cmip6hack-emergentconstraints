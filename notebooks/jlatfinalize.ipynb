{
 "cells": [
  {
   "cell_type": "markdown",
   "metadata": {},
   "source": [
    "Notes:\n",
    "- check at what point is it optimum to subset the data e.g., in time, with intake-esm"
   ]
  },
  {
   "cell_type": "code",
   "execution_count": 1,
   "metadata": {},
   "outputs": [],
   "source": [
    "## Loading libraries\n",
    "%matplotlib inline\n",
    "import matplotlib.pyplot as plt\n",
    "import numpy as np\n",
    "import xarray as xr\n",
    "import xesmf as xe\n",
    "import dask\n",
    "import season_util as su"
   ]
  },
  {
   "cell_type": "code",
   "execution_count": 2,
   "metadata": {},
   "outputs": [
    {
     "data": {
      "application/vnd.jupyter.widget-view+json": {
       "model_id": "d5cc8afa02274e8f9cf3fa60fa394060",
       "version_major": 2,
       "version_minor": 0
      },
      "text/plain": [
       "VBox(children=(HTML(value='<h2>NCARCluster</h2>'), HBox(children=(HTML(value='\\n<div>\\n  <style scoped>\\n    .…"
      ]
     },
     "metadata": {},
     "output_type": "display_data"
    }
   ],
   "source": [
    "from ncar_jobqueue import NCARCluster\n",
    "from distributed import Client\n",
    "cluster = NCARCluster(project=\"UCGD0006\", processes=2, cores=4)\n",
    "cluster.adapt(minimum_jobs=1, maximum_jobs=10)\n",
    "client = Client(cluster)\n",
    "cluster"
   ]
  },
  {
   "cell_type": "code",
   "execution_count": 3,
   "metadata": {},
   "outputs": [],
   "source": [
    "import intake\n",
    "var= [\"ua\"]\n",
    "col = intake.open_esm_datastore(\"/glade/collections/cmip/catalog/intake-esm-datastore/catalogs/glade-cmip6.json\")\n",
    "#cat=col.search(activity_id=\"CMIP\", source_id=\"CESM2\",experiment_id=\"1pctCO2\", variable_id=var,\n",
    "# table_id=\"Amon\", grid_label=\"gn\")\n",
    "cat=col.search(activity_id=\"CMIP\",experiment_id=\"historical\", variable_id=var,\n",
    "table_id=\"Amon\", grid_label=\"gn\", time_range=\"185001-201412\")"
   ]
  },
  {
   "cell_type": "code",
   "execution_count": 4,
   "metadata": {},
   "outputs": [
    {
     "name": "stdout",
     "output_type": "stream",
     "text": [
      "--> The keys in the returned dictionary of datasets are constructed as follows:\n",
      "\t'activity_id.institution_id.source_id.experiment_id.table_id.grid_label'\n",
      "\n",
      "--> There will be 7 group(s)\n"
     ]
    }
   ],
   "source": [
    "dset_dict = cat.to_dataset_dict(cdf_kwargs={'chunks': {\"time\": 36}, \n",
    "                                    'decode_times': True})"
   ]
  },
  {
   "cell_type": "code",
   "execution_count": 5,
   "metadata": {},
   "outputs": [
    {
     "data": {
      "text/plain": [
       "dict_keys(['CMIP.BCC.BCC-ESM1.historical.Amon.gn', 'CMIP.CCCma.CanESM5.historical.Amon.gn', 'CMIP.MIROC.MIROC-ES2L.historical.Amon.gn', 'CMIP.NCAR.CESM2.historical.Amon.gn', 'CMIP.NCAR.CESM2-WACCM.historical.Amon.gn', 'CMIP.NUIST.NESM3.historical.Amon.gn', 'CMIP.UA.MCM-UA-1-0.historical.Amon.gn'])"
      ]
     },
     "execution_count": 5,
     "metadata": {},
     "output_type": "execute_result"
    }
   ],
   "source": [
    "dset_dict.keys()"
   ]
  },
  {
   "cell_type": "code",
   "execution_count": 6,
   "metadata": {},
   "outputs": [],
   "source": [
    "dset_dict['CMIP.UA.MCM-UA-1-0.historical.Amon.gn']=dset_dict['CMIP.UA.MCM-UA-1-0.historical.Amon.gn'].rename({'latitude': 'lat', 'longitude': 'lon'})"
   ]
  },
  {
   "cell_type": "code",
   "execution_count": 33,
   "metadata": {
    "collapsed": true,
    "jupyter": {
     "outputs_hidden": true,
     "source_hidden": true
    }
   },
   "outputs": [
    {
     "name": "stdout",
     "output_type": "stream",
     "text": [
      "<xarray.DataArray 'ua' (time: 324, lat: 80, lon: 96)>\n",
      "dask.array<mean_agg-aggregate, shape=(324, 80, 96), dtype=float32, chunksize=(36, 80, 96), chunktype=numpy.ndarray>\n",
      "Coordinates:\n",
      "  * lat      (lat) float64 -88.29 -86.07 -83.84 -81.61 ... 83.84 86.07 88.29\n",
      "    plev     float64 7e+04\n",
      "  * lon      (lon) float64 0.0 3.75 7.5 11.25 15.0 ... 345.0 348.8 352.5 356.2\n",
      "  * time     (time) object 1979-01-17 00:00:00 ... 2005-12-17 00:00:00\n"
     ]
    },
    {
     "data": {
      "text/plain": [
       "{'CMIP.BCC.BCC-ESM1.historical.Amon.gn': <xarray.DataArray 'ua' (time: 324, lat: 64)>\n",
       " dask.array<mean_agg-aggregate, shape=(324, 64), dtype=float32, chunksize=(36, 64), chunktype=numpy.ndarray>\n",
       " Coordinates:\n",
       "     plev     float64 7e+04\n",
       "   * lat      (lat) float64 -87.86 -85.1 -82.31 -79.53 ... 79.53 82.31 85.1 87.86\n",
       "   * time     (time) object 1979-01-16 12:00:00 ... 2005-12-16 12:00:00,\n",
       " 'CMIP.CCCma.CanESM5.historical.Amon.gn': <xarray.DataArray 'ua' (time: 324, lat: 64)>\n",
       " dask.array<mean_agg-aggregate, shape=(324, 64), dtype=float32, chunksize=(36, 64), chunktype=numpy.ndarray>\n",
       " Coordinates:\n",
       "     plev     float64 7e+04\n",
       "   * lat      (lat) float64 -87.86 -85.1 -82.31 -79.53 ... 79.53 82.31 85.1 87.86\n",
       "   * time     (time) object 1979-01-16 12:00:00 ... 2005-12-16 12:00:00,\n",
       " 'CMIP.MIROC.MIROC-ES2L.historical.Amon.gn': <xarray.DataArray 'ua' (time: 324, lat: 64)>\n",
       " dask.array<mean_agg-aggregate, shape=(324, 64), dtype=float32, chunksize=(36, 64), chunktype=numpy.ndarray>\n",
       " Coordinates:\n",
       "     plev     float64 7e+04\n",
       "   * lat      (lat) float64 -87.86 -85.1 -82.31 -79.53 ... 79.53 82.31 85.1 87.86\n",
       "   * time     (time) datetime64[ns] 1979-01-16T12:00:00 ... 2005-12-16T12:00:00,\n",
       " 'CMIP.NCAR.CESM2.historical.Amon.gn': <xarray.DataArray 'ua' (time: 324, lat: 192)>\n",
       " dask.array<mean_agg-aggregate, shape=(324, 192), dtype=float32, chunksize=(36, 192), chunktype=numpy.ndarray>\n",
       " Coordinates:\n",
       "     plev     float64 7e+04\n",
       "   * lat      (lat) float64 -90.0 -89.06 -88.12 -87.17 ... 87.17 88.12 89.06 90.0\n",
       "   * time     (time) object 1979-01-15 12:00:00 ... 2005-12-15 12:00:00,\n",
       " 'CMIP.NCAR.CESM2-WACCM.historical.Amon.gn': <xarray.DataArray 'ua' (time: 324, lat: 192)>\n",
       " dask.array<mean_agg-aggregate, shape=(324, 192), dtype=float32, chunksize=(36, 192), chunktype=numpy.ndarray>\n",
       " Coordinates:\n",
       "     plev     float64 7e+04\n",
       "   * lat      (lat) float64 -90.0 -89.06 -88.12 -87.17 ... 87.17 88.12 89.06 90.0\n",
       "   * time     (time) object 1979-01-15 12:00:00 ... 2005-12-15 12:00:00,\n",
       " 'CMIP.NUIST.NESM3.historical.Amon.gn': <xarray.DataArray 'ua' (time: 324, lat: 96)>\n",
       " dask.array<mean_agg-aggregate, shape=(324, 96), dtype=float32, chunksize=(36, 96), chunktype=numpy.ndarray>\n",
       " Coordinates:\n",
       "     plev     float64 7e+04\n",
       "   * lat      (lat) float64 -88.57 -86.72 -84.86 -83.0 ... 83.0 84.86 86.72 88.57\n",
       "   * time     (time) datetime64[ns] 1979-01-16T12:00:00 ... 2005-12-16T12:00:00}"
      ]
     },
     "execution_count": 33,
     "metadata": {},
     "output_type": "execute_result"
    }
   ],
   "source": [
    "#ds_mean = {}\n",
    "#for key, ds in dset_dict.items():\n",
    "#    dsua=ds.ua\n",
    "#    #print(dsua)\n",
    "#    try:\n",
    "#        dsua = dsua.sel(time=slice('1979-01-01','2006-01-01'), plev=70000.).mean(dim=[\"member_id\"])\n",
    "#        ds_mean[key] = dsua.mean(dim=[\"lon\"])\n",
    "#    except:\n",
    "#        dsua=dsua.rename({'latitude': 'lat', 'longitude': 'lon'})\n",
    "#        #print(dsua)\n",
    "#        #ds_mean[key] = dsua.sel(time=slice('1979-01-01','2006-01-01'), plev=70000.).mean(dim=[\"member_id\"])\n",
    "#        #ds_mean[key] = dsua.mean(dim=[\"lon\"])\n",
    "#        \n",
    "#     #   print(key)\n",
    "#ds_mean"
   ]
  },
  {
   "cell_type": "code",
   "execution_count": 15,
   "metadata": {
    "collapsed": true,
    "jupyter": {
     "outputs_hidden": true
    }
   },
   "outputs": [
    {
     "data": {
      "text/plain": [
       "{'CMIP.BCC.BCC-ESM1.historical.Amon.gn': <xarray.Dataset>\n",
       " Dimensions:   (bnds: 2, lat: 64, plev: 1, time: 1980)\n",
       " Coordinates:\n",
       "   * lat       (lat) float64 -87.86 -85.1 -82.31 -79.53 ... 82.31 85.1 87.86\n",
       "   * plev      (plev) float64 7e+04\n",
       "   * time      (time) object 1850-01-16 12:00:00 ... 2014-12-16 12:00:00\n",
       " Dimensions without coordinates: bnds\n",
       " Data variables:\n",
       "     lon_bnds  (bnds) float64 dask.array<chunksize=(2,), meta=np.ndarray>\n",
       "     lat_bnds  (lat, bnds) float64 dask.array<chunksize=(64, 2), meta=np.ndarray>\n",
       "     ua        (time, plev, lat) float32 dask.array<chunksize=(36, 1, 64), meta=np.ndarray>,\n",
       " 'CMIP.CCCma.CanESM5.historical.Amon.gn': <xarray.Dataset>\n",
       " Dimensions:   (bnds: 2, lat: 64, plev: 1, time: 1980)\n",
       " Coordinates:\n",
       "   * lat       (lat) float64 -87.86 -85.1 -82.31 -79.53 ... 82.31 85.1 87.86\n",
       "   * plev      (plev) float64 7e+04\n",
       "   * time      (time) object 1850-01-16 12:00:00 ... 2014-12-16 12:00:00\n",
       " Dimensions without coordinates: bnds\n",
       " Data variables:\n",
       "     lon_bnds  (bnds) float64 dask.array<chunksize=(2,), meta=np.ndarray>\n",
       "     lat_bnds  (lat, bnds) float64 dask.array<chunksize=(64, 2), meta=np.ndarray>\n",
       "     ua        (time, plev, lat) float32 dask.array<chunksize=(36, 1, 64), meta=np.ndarray>,\n",
       " 'CMIP.MIROC.MIROC-ES2L.historical.Amon.gn': <xarray.Dataset>\n",
       " Dimensions:   (bnds: 2, lat: 64, plev: 1, time: 1980)\n",
       " Coordinates:\n",
       "   * lat       (lat) float64 -87.86 -85.1 -82.31 -79.53 ... 82.31 85.1 87.86\n",
       "   * plev      (plev) float64 7e+04\n",
       "   * time      (time) datetime64[ns] 1850-01-16T12:00:00 ... 2014-12-16T12:00:00\n",
       " Dimensions without coordinates: bnds\n",
       " Data variables:\n",
       "     lon_bnds  (bnds) float64 dask.array<chunksize=(2,), meta=np.ndarray>\n",
       "     lat_bnds  (lat, bnds) float64 dask.array<chunksize=(64, 2), meta=np.ndarray>\n",
       "     ua        (time, plev, lat) float32 dask.array<chunksize=(36, 1, 64), meta=np.ndarray>,\n",
       " 'CMIP.NCAR.CESM2.historical.Amon.gn': <xarray.Dataset>\n",
       " Dimensions:   (lat: 192, nbnd: 2, plev: 1, time: 1980)\n",
       " Coordinates:\n",
       "   * lat       (lat) float64 -90.0 -89.06 -88.12 -87.17 ... 88.12 89.06 90.0\n",
       "   * plev      (plev) float64 7e+04\n",
       "   * time      (time) object 1850-01-15 12:00:00 ... 2014-12-15 12:00:00\n",
       " Dimensions without coordinates: nbnd\n",
       " Data variables:\n",
       "     lon_bnds  (nbnd) float32 dask.array<chunksize=(2,), meta=np.ndarray>\n",
       "     lat_bnds  (lat, nbnd) float32 dask.array<chunksize=(192, 2), meta=np.ndarray>\n",
       "     ua        (time, plev, lat) float32 dask.array<chunksize=(36, 1, 192), meta=np.ndarray>,\n",
       " 'CMIP.NCAR.CESM2-WACCM.historical.Amon.gn': <xarray.Dataset>\n",
       " Dimensions:   (lat: 192, nbnd: 2, plev: 1, time: 1980)\n",
       " Coordinates:\n",
       "   * lat       (lat) float64 -90.0 -89.06 -88.12 -87.17 ... 88.12 89.06 90.0\n",
       "   * plev      (plev) float64 7e+04\n",
       "   * time      (time) object 1850-01-15 12:00:00 ... 2014-12-15 12:00:00\n",
       " Dimensions without coordinates: nbnd\n",
       " Data variables:\n",
       "     lon_bnds  (nbnd) float32 dask.array<chunksize=(2,), meta=np.ndarray>\n",
       "     lat_bnds  (lat, nbnd) float32 dask.array<chunksize=(192, 2), meta=np.ndarray>\n",
       "     ua        (time, plev, lat) float32 dask.array<chunksize=(36, 1, 192), meta=np.ndarray>,\n",
       " 'CMIP.NUIST.NESM3.historical.Amon.gn': <xarray.Dataset>\n",
       " Dimensions:   (bnds: 2, lat: 96, plev: 1, time: 1980)\n",
       " Coordinates:\n",
       "   * lat       (lat) float64 -88.57 -86.72 -84.86 -83.0 ... 84.86 86.72 88.57\n",
       "   * plev      (plev) float64 7e+04\n",
       "   * time      (time) datetime64[ns] 1850-01-16T12:00:00 ... 2014-12-16T12:00:00\n",
       " Dimensions without coordinates: bnds\n",
       " Data variables:\n",
       "     lon_bnds  (bnds) float64 dask.array<chunksize=(2,), meta=np.ndarray>\n",
       "     lat_bnds  (lat, bnds) float64 dask.array<chunksize=(96, 2), meta=np.ndarray>\n",
       "     ua        (time, plev, lat) float32 dask.array<chunksize=(36, 1, 96), meta=np.ndarray>,\n",
       " 'CMIP.UA.MCM-UA-1-0.historical.Amon.gn': <xarray.Dataset>\n",
       " Dimensions:    (bnds: 2, lat: 80, plev: 1, time: 1980)\n",
       " Coordinates:\n",
       "   * lat        (lat) float64 -88.29 -86.07 -83.84 -81.61 ... 83.84 86.07 88.29\n",
       "   * bnds       (bnds) float64 1.0 2.0\n",
       "   * plev       (plev) float64 7e+04\n",
       "   * time       (time) object 1850-01-17 00:00:00 ... 2014-12-17 00:00:00\n",
       " Data variables:\n",
       "     lon_bnds   (bnds) float64 dask.array<chunksize=(2,), meta=np.ndarray>\n",
       "     areacella  (lat) float64 dask.array<chunksize=(80,), meta=np.ndarray>\n",
       "     lat_bnds   (lat, bnds) float64 dask.array<chunksize=(80, 2), meta=np.ndarray>\n",
       "     ua         (time, plev, lat) float32 dask.array<chunksize=(36, 1, 80), meta=np.ndarray>}"
      ]
     },
     "execution_count": 15,
     "metadata": {},
     "output_type": "execute_result"
    }
   ],
   "source": [
    "ds_mean = {}\n",
    "for key, ds in dset_dict.items():\n",
    "    ds_mean[key] = ds.sel(plev=[70000.]).mean(dim=[\"member_id\", \"lon\"])\n",
    "    \n",
    "ds_mean\n"
   ]
  },
  {
   "cell_type": "code",
   "execution_count": 16,
   "metadata": {
    "collapsed": true,
    "jupyter": {
     "outputs_hidden": true
    }
   },
   "outputs": [
    {
     "data": {
      "text/plain": [
       "({'CMIP.BCC.BCC-ESM1.historical.Amon.gn': <xarray.Dataset>\n",
       "  Dimensions:   (bnds: 2, lat: 64, plev: 1, time: 1980)\n",
       "  Coordinates:\n",
       "    * lat       (lat) float64 -87.86 -85.1 -82.31 -79.53 ... 82.31 85.1 87.86\n",
       "    * plev      (plev) float64 7e+04\n",
       "    * time      (time) object 1850-01-16 12:00:00 ... 2014-12-16 12:00:00\n",
       "  Dimensions without coordinates: bnds\n",
       "  Data variables:\n",
       "      lon_bnds  (bnds) float64 177.2 180.0\n",
       "      lat_bnds  (lat, bnds) float64 -90.0 -86.48 -86.48 -83.7 ... 86.48 86.48 90.0\n",
       "      ua        (time, plev, lat) float32 -1.35394 -1.1002313 ... -0.007226696,\n",
       "  'CMIP.CCCma.CanESM5.historical.Amon.gn': <xarray.Dataset>\n",
       "  Dimensions:   (bnds: 2, lat: 64, plev: 1, time: 1980)\n",
       "  Coordinates:\n",
       "    * lat       (lat) float64 -87.86 -85.1 -82.31 -79.53 ... 82.31 85.1 87.86\n",
       "    * plev      (plev) float64 7e+04\n",
       "    * time      (time) object 1850-01-16 12:00:00 ... 2014-12-16 12:00:00\n",
       "  Dimensions without coordinates: bnds\n",
       "  Data variables:\n",
       "      lon_bnds  (bnds) float64 177.2 180.0\n",
       "      lat_bnds  (lat, bnds) float64 -90.0 -86.58 -86.58 ... 86.58 86.58 90.0\n",
       "      ua        (time, plev, lat) float32 -1.1950698 -0.26550215 ... 0.0310267,\n",
       "  'CMIP.MIROC.MIROC-ES2L.historical.Amon.gn': <xarray.Dataset>\n",
       "  Dimensions:   (bnds: 2, lat: 64, plev: 1, time: 1980)\n",
       "  Coordinates:\n",
       "    * lat       (lat) float64 -87.86 -85.1 -82.31 -79.53 ... 82.31 85.1 87.86\n",
       "    * plev      (plev) float64 7e+04\n",
       "    * time      (time) datetime64[ns] 1850-01-16T12:00:00 ... 2014-12-16T12:00:00\n",
       "  Dimensions without coordinates: bnds\n",
       "  Data variables:\n",
       "      lon_bnds  (bnds) float64 177.2 180.0\n",
       "      lat_bnds  (lat, bnds) float64 -90.0 -86.58 -86.58 ... 86.58 86.58 90.0\n",
       "      ua        (time, plev, lat) float32 0.11874035 -0.5149657 ... 1.4175525,\n",
       "  'CMIP.NCAR.CESM2.historical.Amon.gn': <xarray.Dataset>\n",
       "  Dimensions:   (lat: 192, nbnd: 2, plev: 1, time: 1980)\n",
       "  Coordinates:\n",
       "    * lat       (lat) float64 -90.0 -89.06 -88.12 -87.17 ... 88.12 89.06 90.0\n",
       "    * plev      (plev) float64 7e+04\n",
       "    * time      (time) object 1850-01-15 12:00:00 ... 2014-12-15 12:00:00\n",
       "  Dimensions without coordinates: nbnd\n",
       "  Data variables:\n",
       "      lon_bnds  (nbnd) float32 178.75 180.0\n",
       "      lat_bnds  (lat, nbnd) float32 -90.0 -89.52879 -89.52879 ... 89.52879 90.0\n",
       "      ua        (time, plev, lat) float32 nan nan -5.817797 ... 0.026412023 0.0,\n",
       "  'CMIP.NCAR.CESM2-WACCM.historical.Amon.gn': <xarray.Dataset>\n",
       "  Dimensions:   (lat: 192, nbnd: 2, plev: 1, time: 1980)\n",
       "  Coordinates:\n",
       "    * lat       (lat) float64 -90.0 -89.06 -88.12 -87.17 ... 88.12 89.06 90.0\n",
       "    * plev      (plev) float64 7e+04\n",
       "    * time      (time) object 1850-01-15 12:00:00 ... 2014-12-15 12:00:00\n",
       "  Dimensions without coordinates: nbnd\n",
       "  Data variables:\n",
       "      lon_bnds  (nbnd) float32 178.75 180.0\n",
       "      lat_bnds  (lat, nbnd) float32 -90.0 -89.52879 -89.52879 ... 89.52879 90.0\n",
       "      ua        (time, plev, lat) float32 nan nan ... 0.3385702 -1.2578787e-05,\n",
       "  'CMIP.NUIST.NESM3.historical.Amon.gn': <xarray.Dataset>\n",
       "  Dimensions:   (bnds: 2, lat: 96, plev: 1, time: 1980)\n",
       "  Coordinates:\n",
       "    * lat       (lat) float64 -88.57 -86.72 -84.86 -83.0 ... 84.86 86.72 88.57\n",
       "    * plev      (plev) float64 7e+04\n",
       "    * time      (time) datetime64[ns] 1850-01-16T12:00:00 ... 2014-12-16T12:00:00\n",
       "  Dimensions without coordinates: bnds\n",
       "  Data variables:\n",
       "      lon_bnds  (bnds) float64 179.1 180.9\n",
       "      lat_bnds  (lat, bnds) float64 -90.0 -88.12 -88.12 ... 88.12 88.12 90.0\n",
       "      ua        (time, plev, lat) float32 -0.95006466 -1.3390691 ... -0.009237735,\n",
       "  'CMIP.UA.MCM-UA-1-0.historical.Amon.gn': <xarray.Dataset>\n",
       "  Dimensions:    (bnds: 2, lat: 80, plev: 1, time: 1980)\n",
       "  Coordinates:\n",
       "    * lat        (lat) float64 -88.29 -86.07 -83.84 -81.61 ... 83.84 86.07 88.29\n",
       "    * bnds       (bnds) float64 1.0 2.0\n",
       "    * plev       (plev) float64 7e+04\n",
       "    * time       (time) object 1850-01-17 00:00:00 ... 2014-12-17 00:00:00\n",
       "  Data variables:\n",
       "      lon_bnds   (bnds) float64 176.2 180.0\n",
       "      areacella  (lat) float64 3.041e+07 7.075e+07 ... 7.075e+07 3.041e+07\n",
       "      lat_bnds   (lat, bnds) float64 -90.0 -87.26 -87.26 ... 87.26 87.26 90.0\n",
       "      ua         (time, plev, lat) float32 -1.4417094 -1.0823346 ... 0.42183638},)"
      ]
     },
     "execution_count": 16,
     "metadata": {},
     "output_type": "execute_result"
    }
   ],
   "source": [
    "import dask\n",
    "ds_mean = dask.compute(ds_mean)\n",
    "ds_mean"
   ]
  },
  {
   "cell_type": "code",
   "execution_count": 21,
   "metadata": {},
   "outputs": [
    {
     "name": "stderr",
     "output_type": "stream",
     "text": [
      "/ncar/usr/jupyterhub/envs/cmip6-201910/lib/python3.7/site-packages/xarray/core/nanops.py:140: RuntimeWarning: Mean of empty slice\n",
      "  return np.nanmean(a, axis=axis, dtype=dtype)\n",
      "/ncar/usr/jupyterhub/envs/cmip6-201910/lib/python3.7/site-packages/xarray/core/nanops.py:140: RuntimeWarning: Mean of empty slice\n",
      "  return np.nanmean(a, axis=axis, dtype=dtype)\n"
     ]
    },
    {
     "data": {
      "text/plain": [
       "\u001b[0;31mSignature:\u001b[0m \u001b[0msu\u001b[0m\u001b[0;34m.\u001b[0m\u001b[0mseason_mean\u001b[0m\u001b[0;34m(\u001b[0m\u001b[0mds\u001b[0m\u001b[0;34m,\u001b[0m \u001b[0mvar\u001b[0m\u001b[0;34m,\u001b[0m \u001b[0mseason\u001b[0m\u001b[0;34m=\u001b[0m\u001b[0;34m'all'\u001b[0m\u001b[0;34m,\u001b[0m \u001b[0mcal\u001b[0m\u001b[0;34m=\u001b[0m\u001b[0;34m'none'\u001b[0m\u001b[0;34m)\u001b[0m\u001b[0;34m\u001b[0m\u001b[0;34m\u001b[0m\u001b[0m\n",
       "\u001b[0;31mDocstring:\u001b[0m\n",
       "calculate climatological mean by season\n",
       "Args: ds (xarray.Dataset): dataset\n",
       "      var (str): variable to use\n",
       "      season (str): \"all\", 'DJF', \"MAM\", \"JJA\", \"SON\"\n",
       "      cal (str): \"none\"(default) or calendar used for weighting months by number of days\n",
       "\u001b[0;31mFile:\u001b[0m      ~/cmip6hackathon/season_util.py\n",
       "\u001b[0;31mType:\u001b[0m      function\n"
      ]
     },
     "metadata": {},
     "output_type": "display_data"
    }
   ],
   "source": [
    "?su.season_mean\n",
    "jja_mean = {}\n",
    "for key, x in dset_dict.items():\n",
    "     jja_mean[key]=su.season_mean(ds_mean[0][key],\"ua\",season=\"JJA\")"
   ]
  },
  {
   "cell_type": "code",
   "execution_count": 26,
   "metadata": {},
   "outputs": [
    {
     "name": "stdout",
     "output_type": "stream",
     "text": [
      "(1, 64)\n"
     ]
    }
   ],
   "source": [
    "print(jja_mean[\"CMIP.BCC.BCC-ESM1.historical.Amon.gn\"].shape)"
   ]
  },
  {
   "cell_type": "code",
   "execution_count": null,
   "metadata": {},
   "outputs": [],
   "source": []
  }
 ],
 "metadata": {
  "kernelspec": {
   "display_name": "CMIP6 2019.10",
   "language": "python",
   "name": "cmip6-201910"
  },
  "language_info": {
   "codemirror_mode": {
    "name": "ipython",
    "version": 3
   },
   "file_extension": ".py",
   "mimetype": "text/x-python",
   "name": "python",
   "nbconvert_exporter": "python",
   "pygments_lexer": "ipython3",
   "version": "3.7.3"
  }
 },
 "nbformat": 4,
 "nbformat_minor": 4
}
