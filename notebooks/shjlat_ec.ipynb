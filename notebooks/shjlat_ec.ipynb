{
 "cells": [
  {
   "cell_type": "code",
   "execution_count": 1,
   "metadata": {},
   "outputs": [
    {
     "name": "stdout",
     "output_type": "stream",
     "text": [
      "you have successfully imported the jet latitude calculation subroutines\n"
     ]
    }
   ],
   "source": [
    "# Loading libraries\n",
    "%matplotlib inline\n",
    "import matplotlib.pyplot as plt\n",
    "import numpy as np\n",
    "import xarray as xr\n",
    "import xesmf as xe\n",
    "import dask\n",
    "import season_util as su\n",
    "import jetlatcalcs as jlat"
   ]
  },
  {
   "cell_type": "code",
   "execution_count": 3,
   "metadata": {},
   "outputs": [
    {
     "name": "stderr",
     "output_type": "stream",
     "text": [
      "/ncar/usr/jupyterhub/envs/cmip6-201910/lib/python3.7/site-packages/distributed/dashboard/core.py:72: UserWarning: \n",
      "Port 8787 is already in use. \n",
      "Perhaps you already have a cluster running?\n",
      "Hosting the diagnostics dashboard on a random port instead.\n",
      "  warnings.warn(\"\\n\" + msg)\n"
     ]
    },
    {
     "data": {
      "application/vnd.jupyter.widget-view+json": {
       "model_id": "77f274f5a84a43d79e114fc85b30e155",
       "version_major": 2,
       "version_minor": 0
      },
      "text/plain": [
       "VBox(children=(HTML(value='<h2>NCARCluster</h2>'), HBox(children=(HTML(value='\\n<div>\\n  <style scoped>\\n    .…"
      ]
     },
     "metadata": {},
     "output_type": "display_data"
    }
   ],
   "source": [
    "from ncar_jobqueue import NCARCluster\n",
    "from distributed import Client\n",
    "cluster = NCARCluster(project='P04010022')\n",
    "cluster.adapt(minimum_jobs=1, maximum_jobs=10)\n",
    "client = Client(cluster)\n",
    "cluster"
   ]
  },
  {
   "cell_type": "code",
   "execution_count": 5,
   "metadata": {},
   "outputs": [
    {
     "name": "stdout",
     "output_type": "stream",
     "text": [
      "--> The keys in the returned dictionary of datasets are constructed as follows:\n",
      "\t'activity_id.institution_id.source_id.experiment_id.table_id.grid_label'\n",
      "\n",
      "--> There will be 7 group(s)\n"
     ]
    }
   ],
   "source": [
    "#historical simulations\n",
    "import intake\n",
    "var= [\"ua\"]\n",
    "model=['AWI-CM-1-MR','BCC-CSM2-MR','CAMS-CSM1-0','CanESM5','MIROC-ES2L','MIROC6','UKESM1-0-LL','MRI-ESM2-0']\n",
    "col = intake.open_esm_datastore(\"/glade/collections/cmip/catalog/intake-esm-datastore/catalogs/glade-cmip6.json\")\n",
    "cat = col.search(activity_id=\"CMIP\",experiment_id=\"historical\", variable_id=var,\n",
    "table_id=\"Amon\", grid_label=\"gn\", source_id=model )\n",
    "dset_dict_hist = cat.to_dataset_dict(cdf_kwargs={'chunks': {\"time\": 36}, \n",
    "                                    'decode_times': True})"
   ]
  },
  {
   "cell_type": "code",
   "execution_count": 7,
   "metadata": {},
   "outputs": [
    {
     "name": "stdout",
     "output_type": "stream",
     "text": [
      "--> The keys in the returned dictionary of datasets are constructed as follows:\n",
      "\t'activity_id.institution_id.source_id.experiment_id.table_id.grid_label'\n",
      "\n",
      "--> There will be 7 group(s)\n"
     ]
    }
   ],
   "source": [
    "#ssp simulations\n",
    "col = intake.open_esm_datastore(\"/glade/collections/cmip/catalog/intake-esm-datastore/catalogs/glade-cmip6.json\")\n",
    "cat = col.search(activity_id=\"ScenarioMIP\",experiment_id=\"ssp370\", variable_id=var,\n",
    "table_id=\"Amon\", grid_label=\"gn\", source_id=model )\n",
    "dset_dict_ssp370 = cat.to_dataset_dict(cdf_kwargs={'chunks': {\"time\": 36}, \n",
    "                                    'decode_times': True})"
   ]
  },
  {
   "cell_type": "code",
   "execution_count": 11,
   "metadata": {},
   "outputs": [],
   "source": [
    "#calculate the mean over longitude, ensemble members and desired time period and pick out 700hPa\n",
    "hist_mean = {}\n",
    "for key, ds in dset_dict_hist.items():\n",
    "    hist_mean[key] = ds.sel(time = slice('1979-01-01','2006-01-01'), plev=70000.).mean(dim=[\"member_id\",\"lon\"])\n",
    "    \n",
    "ssp370_mean = {}\n",
    "for key, ds in dset_dict_ssp370.items():\n",
    "    ssp370_mean[key] = ds.sel(time = slice('2070-01-01','2099-01-01'), plev=70000.).mean(dim=[\"member_id\",\"lon\"])"
   ]
  },
  {
   "cell_type": "code",
   "execution_count": 13,
   "metadata": {},
   "outputs": [],
   "source": [
    "hist_mean = dask.compute(hist_mean)\n",
    "ssp370_mean = dask.compute(ssp370_mean)"
   ]
  },
  {
   "cell_type": "code",
   "execution_count": 16,
   "metadata": {},
   "outputs": [],
   "source": [
    "# calculate JJA season average\n",
    "hist_jja = {}\n",
    "for key, x in dset_dict_hist.items():\n",
    "    hist_jja[key] = su.season_mean(hist_mean[0][key],\"ua\",season=\"JJA\")\n",
    "    \n",
    "ssp370_jja = {}\n",
    "for key, x in dset_dict_ssp370.items():\n",
    "    ssp370_jja[key] = su.season_mean(ssp370_mean[0][key],\"ua\",season=\"JJA\")"
   ]
  },
  {
   "cell_type": "code",
   "execution_count": 20,
   "metadata": {},
   "outputs": [],
   "source": [
    "#calculate jet latitude\n",
    "jlathist = {}\n",
    "jspeedhist = {}\n",
    "for key, x in dset_dict_hist.items():\n",
    "    jlatv, jspeedv = jlat.calcjetlat( hist_jja[key], -80, -20)\n",
    "    jlathist[key] = jlatv\n",
    "    jspeedhist[key] = jspeedv\n",
    "    \n",
    "jlatssp370 = {}\n",
    "jspeedssp370 = {}\n",
    "for key, x in dset_dict_ssp370.items():\n",
    "    jlatv, jspeedv = jlat.calcjetlat( ssp370_jja[key], -80, -20)\n",
    "    jlatssp370[key] = jlatv\n",
    "    jspeedssp370[key] = jspeedv"
   ]
  },
  {
   "cell_type": "code",
   "execution_count": 86,
   "metadata": {},
   "outputs": [],
   "source": [
    "#read in cmip5 data\n",
    "cmip5path = \"../data/cmip5_jetlatitudes.nc\"\n",
    "cmip5 = xr.open_dataset(cmip5path)\n",
    "#calculate linear regression line\n",
    "coefs = np.polyfit(cmip5.jlatpast, cmip5.jlatfuture - cmip5.jlatpast, 1)\n",
    "acmip5=coefs[1]\n",
    "bcmip5=coefs[0]\n",
    "xvalues = [i for i in range(-55,-35)]\n",
    "yvalues = [acmip5 + bcmip5*i for i in xvalues]"
   ]
  },
  {
   "cell_type": "code",
   "execution_count": 91,
   "metadata": {},
   "outputs": [
    {
     "data": {
      "text/plain": [
       "[-0.7916270928244344,\n",
       " -2.558254102697484,\n",
       " -1.781592515168409,\n",
       " -6.1181011118662045,\n",
       " -4.856125117373274,\n",
       " -2.0160214852062204,\n",
       " -2.8111764114547597]"
      ]
     },
     "execution_count": 91,
     "metadata": {},
     "output_type": "execute_result"
    }
   ],
   "source": [
    "#predict cmip6 values from cmip5\n",
    "jlathistvalues = list(jlathist.values())\n",
    "ycmip6 = [acmip5 + bcmip5*i for i in jlathistvalues]\n",
    "ycmip6"
   ]
  },
  {
   "cell_type": "code",
   "execution_count": 109,
   "metadata": {},
   "outputs": [
    {
     "data": {
      "text/plain": [
       "Text(0.5, 1.0, '$\\\\Delta\\\\phi$ prediction vs $\\\\Delta\\\\phi$')"
      ]
     },
     "execution_count": 109,
     "metadata": {},
     "output_type": "execute_result"
    },
    {
     "data": {
      "image/png": "[encoded data removed]",
      "text/plain": [
       "<Figure size 864x432 with 2 Axes>"
      ]
     },
     "metadata": {},
     "output_type": "display_data"
    }
   ],
   "source": [
    "# plotting\n",
    "jlathistvalues = list(jlathist.values())\n",
    "jlatssp370values = list(jlatssp370.values())\n",
    "jlatdif = [a - b for a, b in zip(jlatssp370values, jlathistvalues)]\n",
    "jlatdifpredict = [acmip5 + bcmip5*i for i in jlathistvalues]\n",
    "fig = plt.figure(figsize=(12, 6),facecolor='w')\n",
    "ax = fig.add_subplot(1, 2, 1)\n",
    "#ax.plot(jlathistvalues,jlatdif, color='red', label='CMIP6', marker='o', linestyle='none')\n",
    "ax.plot(cmip5.jlatpast, cmip5.jlatfuture-cmip5.jlatpast, color='red', label='CMIP5', marker='o', linestyle='none')\n",
    "ax.plot(xvalues,yvalues,color='green', label='CMIP5 Regression', linestyle='solid')\n",
    "ax.plot(jlathistvalues,jlatdif, color='blue', label='CMIP6', marker='o', linestyle='none')\n",
    "ax.set_xlabel('Past jet latitude ($\\phi_{o}$)', fontdict={'size':12});\n",
    "ax.set_ylabel('Future - Past jet latitude ($\\Delta\\phi$)', fontdict={'size':12});  \n",
    "ax.set_title('$\\Delta\\phi$ vs $\\phi_{o}$', fontdict={'size':14})\n",
    "ax.legend(loc='upper right', fontsize=14)\n",
    "\n",
    "ax2=fig.add_subplot(1,2,2)\n",
    "ax2.plot(jlatdif, jlatdifpredict, color='red', label='CMIP5', marker='o', linestyle='none')\n",
    "ax2.set_xlabel('$\\Delta\\phi$', fontdict={'size':12})\n",
    "ax2.set_ylabel('Predicted $\\Delta\\phi$', fontdict={'size':12})\n",
    "ax2.plot([-10,0],[-10,0], color='black', label='1:1', linestyle='solid')\n",
    "ax2.set_title('$\\Delta\\phi$ prediction vs $\\Delta\\phi$', fontdict={'size':14})\n",
    "#fig = plt.figure(figsize=(6, 6),facecolor='w')\n",
    "#ax = fig.add_subplot(1, 1, 1)"
   ]
  },
  {
   "cell_type": "code",
   "execution_count": null,
   "metadata": {},
   "outputs": [],
   "source": []
  }
 ],
 "metadata": {
  "kernelspec": {
   "display_name": "CMIP6 2019.10",
   "language": "python",
   "name": "cmip6-201910"
  },
  "language_info": {
   "codemirror_mode": {
    "name": "ipython",
    "version": 3
   },
   "file_extension": ".py",
   "mimetype": "text/x-python",
   "name": "python",
   "nbconvert_exporter": "python",
   "pygments_lexer": "ipython3",
   "version": "3.7.3"
  }
 },
 "nbformat": 4,
 "nbformat_minor": 4
}
