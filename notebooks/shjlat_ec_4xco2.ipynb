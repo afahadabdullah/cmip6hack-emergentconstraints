{
 "cells": [
  {
   "cell_type": "markdown",
   "metadata": {},
   "source": [
    "## Does the CMIP5 emergent constraint on SH jet shifts work in CMIP6?\n",
    "\n",
    "Kidston and Gerber (2010) (https://doi.org/10.1029/2010GL042873) demonstrated in the annual mean that there was a relationship between the SH climatological jet latitude in the present day and how much the SH jet latitude shifted further poleward under anthropogenic climate change.  Suggesting that there is an emergent constraint on the SH jet latitude change i.e., we know where the real worl jet latitude is and we can use the inter-model relationship between jet latitude and jet shift, to predict where the real world jet will shift in the future.  This relationship was further demonstrated by Simpson and Polvani (https://doi.org/10.1002/2016GL067989) to have a strong seasonality, with the emergent constraint only being strong in the SH winter (JJA).\n",
    "\n",
    "<img src=\"simpsonandpolvani.png\">"
   ]
  },
  {
   "cell_type": "code",
   "execution_count": 1,
   "metadata": {},
   "outputs": [
    {
     "name": "stdout",
     "output_type": "stream",
     "text": [
      "you have successfully imported the jet latitude calculation subroutines\n"
     ]
    }
   ],
   "source": [
    "# Loading libraries\n",
    "%matplotlib inline\n",
    "import matplotlib.pyplot as plt\n",
    "import numpy as np\n",
    "import xarray as xr\n",
    "import xesmf as xe\n",
    "import dask\n",
    "import season_util as su\n",
    "import jetlatcalcs as jlat\n",
    "import intake"
   ]
  },
  {
   "cell_type": "code",
   "execution_count": 2,
   "metadata": {},
   "outputs": [
    {
     "name": "stderr",
     "output_type": "stream",
     "text": [
      "/ncar/usr/jupyterhub/envs/cmip6-201910/lib/python3.7/site-packages/distributed/dashboard/core.py:72: UserWarning: \n",
      "Port 8787 is already in use. \n",
      "Perhaps you already have a cluster running?\n",
      "Hosting the diagnostics dashboard on a random port instead.\n",
      "  warnings.warn(\"\\n\" + msg)\n"
     ]
    },
    {
     "data": {
      "application/vnd.jupyter.widget-view+json": {
       "model_id": "aa5b1e17c3474e07927776c8cc068882",
       "version_major": 2,
       "version_minor": 0
      },
      "text/plain": [
       "VBox(children=(HTML(value='<h2>NCARCluster</h2>'), HBox(children=(HTML(value='\\n<div>\\n  <style scoped>\\n    .…"
      ]
     },
     "metadata": {},
     "output_type": "display_data"
    }
   ],
   "source": [
    "from ncar_jobqueue import NCARCluster\n",
    "from distributed import Client\n",
    "cluster = NCARCluster(project='P04010022')\n",
    "cluster.adapt(minimum_jobs=1, maximum_jobs=10)\n",
    "client = Client(cluster)\n",
    "cluster"
   ]
  },
  {
   "cell_type": "code",
   "execution_count": null,
   "metadata": {},
   "outputs": [],
   "source": [
    "#"
   ]
  },
  {
   "cell_type": "code",
   "execution_count": 16,
   "metadata": {},
   "outputs": [
    {
     "name": "stdout",
     "output_type": "stream",
     "text": [
      "--> The keys in the returned dictionary of datasets are constructed as follows:\n",
      "\t'activity_id.institution_id.source_id.experiment_id.table_id.grid_label'\n",
      "\n",
      "--> There will be 2 group(s)\n",
      "--> The keys in the returned dictionary of datasets are constructed as follows:\n",
      "\t'activity_id.institution_id.source_id.experiment_id.table_id.grid_label'\n",
      "\n",
      "--> There will be 2 group(s)\n"
     ]
    }
   ],
   "source": [
    "# model=['AWI-CM-1-1-MR','BCC-CSM2-MR','BCC-ESM1',\n",
    "#        'CAMS-CSM1-0','CanESM5','CNRM-CM6-1','CNRM-ESM2-1','E3SM-1-0',\n",
    "#        'MIROC6',\n",
    "#        'HadGEM3-GC31-LL','UKESM1-0-LL','MRI-ESM2-0',\n",
    "#        'GISS-E2-1-G','GISS-E2-1-H','CESM2','CESM2-WACCM',\n",
    "#        'NorESM2-LM','GFDL-AM4','GFDL-ESM4','SAM0-UNICON']\n",
    "\n",
    "model = ['IPSL-CM6A-LR','CanESM5']\n",
    "\n",
    "var = [\"ua\"]\n",
    "col = intake.open_esm_datastore(\"/glade/collections/cmip/catalog/\\\n",
    "intake-esm-datastore/catalogs/glade-cmip6.json\")\n",
    "cat = col.search(activity_id=\"CMIP\",experiment_id=\"piControl\",\n",
    "                variable_id=var, table_id=\"Amon\", source_id=model)\n",
    "cat4x = col.search(activity_id=\"CMIP\",experiment_id=\"abrupt-4xCO2\",\n",
    "                variable_id=var, table_id=\"Amon\", source_id=model)\n",
    "dset_dict_pi = cat.to_dataset_dict(cdf_kwargs={'chunks': {\"time\": 36}, \n",
    "                                    'decode_times': True})\n",
    "dset_dict_4x = cat4x.to_dataset_dict(cdf_kwargs={'chunks': {\"time\": 36}, \n",
    "                                    'decode_times': True})"
   ]
  },
  {
   "cell_type": "markdown",
   "metadata": {},
   "source": [
    "Note, currently all models piControls start in January.  This is going to fail for a model where that's not the case e.g., often the met office.  We need to do something fancier here to make sure it works more generally"
   ]
  },
  {
   "cell_type": "code",
   "execution_count": 17,
   "metadata": {},
   "outputs": [],
   "source": [
    "#calculate the mean over longitude, ensemble members and desired time period and pick out 700hPa\n",
    "pi_mean = {}\n",
    "abrupt4x_mean = {}\n",
    "for key, ds in dset_dict_pi.items():\n",
    "    pi_mean[key] = ds.isel(time = slice(0,100*12))\n",
    "    pi_mean[key] = pi_mean[key].sel(plev=70000.).mean(dim=[\"member_id\",\"lon\"])\n",
    "for key, ds in dset_dict_4x.items():\n",
    "    abrupt4x_mean[key] = ds.isel(time = slice(50*12,100*12))\n",
    "    abrupt4x_mean[key] = ds.sel(plev=70000.).mean(dim=[\"member_id\",\"lon\"])"
   ]
  },
  {
   "cell_type": "code",
   "execution_count": 18,
   "metadata": {},
   "outputs": [],
   "source": [
    "pi_mean = dask.compute(pi_mean)\n",
    "abrupt4x_mean = dask.compute(abrupt4x_mean)"
   ]
  },
  {
   "cell_type": "code",
   "execution_count": null,
   "metadata": {},
   "outputs": [],
   "source": [
    "print(pi_mean)"
   ]
  },
  {
   "cell_type": "code",
   "execution_count": null,
   "metadata": {},
   "outputs": [],
   "source": [
    "#note we're having issues with gregorian calendars here"
   ]
  },
  {
   "cell_type": "code",
   "execution_count": 22,
   "metadata": {},
   "outputs": [],
   "source": [
    "xds1=pi_mean[0][\"CMIP.IPSL.IPSL-CM6A-LR.piControl.Amon.gr\"]\n",
    "xds2=pi_mean[0][\"CMIP.CCCma.CanESM5.piControl.Amon.gn\"]"
   ]
  },
  {
   "cell_type": "code",
   "execution_count": 53,
   "metadata": {},
   "outputs": [],
   "source": [
    "import cftime\n",
    "#xds1[\"time\"] = cftime.DatetimeProlepticGregorian\n",
    "xds1=xr.decode_cf(xds1)"
   ]
  },
  {
   "cell_type": "code",
   "execution_count": 54,
   "metadata": {},
   "outputs": [
    {
     "name": "stdout",
     "output_type": "stream",
     "text": [
      "<xarray.DataArray 'time' (time: 1200)>\n",
      "array([Timestamp('1850-01-16 12:00:00'), Timestamp('1850-02-15 00:00:00'),\n",
      "       Timestamp('1850-03-16 12:00:00'), ..., Timestamp('1949-10-16 12:00:00'),\n",
      "       Timestamp('1949-11-16 00:00:00'), Timestamp('1949-12-16 12:00:00')],\n",
      "      dtype=object)\n",
      "Coordinates:\n",
      "    plev     float32 ...\n",
      "  * time     (time) object 1850-01-16T12:00:00 ... 1949-12-16T12:00:00\n",
      "Attributes:\n",
      "    axis:           T\n",
      "    standard_name:  time\n",
      "    long_name:      Time axis\n",
      "    bounds:         time_bounds\n",
      "<xarray.DataArray 'time' (time: 1200)>\n",
      "array([cftime.DatetimeNoLeap(5201, 1, 16, 12, 0, 0, 0, 1, 16),\n",
      "       cftime.DatetimeNoLeap(5201, 2, 15, 0, 0, 0, 0, 3, 46),\n",
      "       cftime.DatetimeNoLeap(5201, 3, 16, 12, 0, 0, 0, 4, 75), ...,\n",
      "       cftime.DatetimeNoLeap(5300, 10, 16, 12, 0, 0, 0, 2, 289),\n",
      "       cftime.DatetimeNoLeap(5300, 11, 16, 0, 0, 0, 0, 5, 320),\n",
      "       cftime.DatetimeNoLeap(5300, 12, 16, 12, 0, 0, 0, 0, 350)], dtype=object)\n",
      "Coordinates:\n",
      "    plev     float64 7e+04\n",
      "  * time     (time) object 5201-01-16 12:00:00 ... 5300-12-16 12:00:00\n",
      "Attributes:\n",
      "    bounds:         time_bnds\n",
      "    axis:           T\n",
      "    long_name:      time\n",
      "    standard_name:  time\n"
     ]
    }
   ],
   "source": [
    "print(xds1.time)\n",
    "print(xds2.time)"
   ]
  },
  {
   "cell_type": "code",
   "execution_count": 33,
   "metadata": {},
   "outputs": [
    {
     "data": {
      "text/plain": [
       "DataArrayGroupBy, grouped over 'season' \n",
       "4 groups with labels 'DJF', 'JJA', 'MAM', 'SON'."
      ]
     },
     "execution_count": 33,
     "metadata": {},
     "output_type": "execute_result"
    }
   ],
   "source": [
    "xds2[\"ua\"].groupby('time.season')"
   ]
  },
  {
   "cell_type": "code",
   "execution_count": 46,
   "metadata": {},
   "outputs": [
    {
     "ename": "AttributeError",
     "evalue": "'IndexVariable' object has no attribute 'month'",
     "output_type": "error",
     "traceback": [
      "\u001b[0;31m---------------------------------------------------------------------------\u001b[0m",
      "\u001b[0;31mKeyError\u001b[0m                                  Traceback (most recent call last)",
      "\u001b[0;32m/ncar/usr/jupyterhub/envs/cmip6-201910/lib/python3.7/site-packages/xarray/core/dataarray.py\u001b[0m in \u001b[0;36m_getitem_coord\u001b[0;34m(self, key)\u001b[0m\n\u001b[1;32m    626\u001b[0m         \u001b[0;32mtry\u001b[0m\u001b[0;34m:\u001b[0m\u001b[0;34m\u001b[0m\u001b[0;34m\u001b[0m\u001b[0m\n\u001b[0;32m--> 627\u001b[0;31m             \u001b[0mvar\u001b[0m \u001b[0;34m=\u001b[0m \u001b[0mself\u001b[0m\u001b[0;34m.\u001b[0m\u001b[0m_coords\u001b[0m\u001b[0;34m[\u001b[0m\u001b[0mkey\u001b[0m\u001b[0;34m]\u001b[0m\u001b[0;34m\u001b[0m\u001b[0;34m\u001b[0m\u001b[0m\n\u001b[0m\u001b[1;32m    628\u001b[0m         \u001b[0;32mexcept\u001b[0m \u001b[0mKeyError\u001b[0m\u001b[0;34m:\u001b[0m\u001b[0;34m\u001b[0m\u001b[0;34m\u001b[0m\u001b[0m\n",
      "\u001b[0;31mKeyError\u001b[0m: 'time.month'",
      "\nDuring handling of the above exception, another exception occurred:\n",
      "\u001b[0;31mAttributeError\u001b[0m                            Traceback (most recent call last)",
      "\u001b[0;32m<ipython-input-46-ca6e5c224475>\u001b[0m in \u001b[0;36m<module>\u001b[0;34m\u001b[0m\n\u001b[1;32m      1\u001b[0m \u001b[0;31m#xds1[\"ua\"].groupby('time.month')\u001b[0m\u001b[0;34m\u001b[0m\u001b[0;34m\u001b[0m\u001b[0;34m\u001b[0m\u001b[0m\n\u001b[0;32m----> 2\u001b[0;31m \u001b[0mprint\u001b[0m\u001b[0;34m(\u001b[0m\u001b[0mxds1\u001b[0m\u001b[0;34m[\u001b[0m\u001b[0;34m\"time\"\u001b[0m\u001b[0;34m]\u001b[0m\u001b[0;34m.\u001b[0m\u001b[0mgroupby\u001b[0m\u001b[0;34m(\u001b[0m\u001b[0;34m'time.month'\u001b[0m\u001b[0;34m)\u001b[0m\u001b[0;34m)\u001b[0m\u001b[0;34m\u001b[0m\u001b[0;34m\u001b[0m\u001b[0m\n\u001b[0m\u001b[1;32m      3\u001b[0m \u001b[0;31m#xds1month['month'] = xds1['time'].dt.month\u001b[0m\u001b[0;34m\u001b[0m\u001b[0;34m\u001b[0m\u001b[0;34m\u001b[0m\u001b[0m\n",
      "\u001b[0;32m/ncar/usr/jupyterhub/envs/cmip6-201910/lib/python3.7/site-packages/xarray/core/common.py\u001b[0m in \u001b[0;36mgroupby\u001b[0;34m(self, group, squeeze, restore_coord_dims)\u001b[0m\n\u001b[1;32m    655\u001b[0m         \"\"\"\n\u001b[1;32m    656\u001b[0m         return self._groupby_cls(\n\u001b[0;32m--> 657\u001b[0;31m             \u001b[0mself\u001b[0m\u001b[0;34m,\u001b[0m \u001b[0mgroup\u001b[0m\u001b[0;34m,\u001b[0m \u001b[0msqueeze\u001b[0m\u001b[0;34m=\u001b[0m\u001b[0msqueeze\u001b[0m\u001b[0;34m,\u001b[0m \u001b[0mrestore_coord_dims\u001b[0m\u001b[0;34m=\u001b[0m\u001b[0mrestore_coord_dims\u001b[0m\u001b[0;34m\u001b[0m\u001b[0;34m\u001b[0m\u001b[0m\n\u001b[0m\u001b[1;32m    658\u001b[0m         )\n\u001b[1;32m    659\u001b[0m \u001b[0;34m\u001b[0m\u001b[0m\n",
      "\u001b[0;32m/ncar/usr/jupyterhub/envs/cmip6-201910/lib/python3.7/site-packages/xarray/core/groupby.py\u001b[0m in \u001b[0;36m__init__\u001b[0;34m(self, obj, group, squeeze, grouper, bins, restore_coord_dims, cut_kwargs)\u001b[0m\n\u001b[1;32m    297\u001b[0m                     \u001b[0;34m\"name of an xarray variable or dimension\"\u001b[0m\u001b[0;34m\u001b[0m\u001b[0;34m\u001b[0m\u001b[0m\n\u001b[1;32m    298\u001b[0m                 )\n\u001b[0;32m--> 299\u001b[0;31m             \u001b[0mgroup\u001b[0m \u001b[0;34m=\u001b[0m \u001b[0mobj\u001b[0m\u001b[0;34m[\u001b[0m\u001b[0mgroup\u001b[0m\u001b[0;34m]\u001b[0m\u001b[0;34m\u001b[0m\u001b[0;34m\u001b[0m\u001b[0m\n\u001b[0m\u001b[1;32m    300\u001b[0m             \u001b[0;32mif\u001b[0m \u001b[0mlen\u001b[0m\u001b[0;34m(\u001b[0m\u001b[0mgroup\u001b[0m\u001b[0;34m)\u001b[0m \u001b[0;34m==\u001b[0m \u001b[0;36m0\u001b[0m\u001b[0;34m:\u001b[0m\u001b[0;34m\u001b[0m\u001b[0;34m\u001b[0m\u001b[0m\n\u001b[1;32m    301\u001b[0m                 \u001b[0;32mraise\u001b[0m \u001b[0mValueError\u001b[0m\u001b[0;34m(\u001b[0m\u001b[0;34m\"{} must not be empty\"\u001b[0m\u001b[0;34m.\u001b[0m\u001b[0mformat\u001b[0m\u001b[0;34m(\u001b[0m\u001b[0mgroup\u001b[0m\u001b[0;34m.\u001b[0m\u001b[0mname\u001b[0m\u001b[0;34m)\u001b[0m\u001b[0;34m)\u001b[0m\u001b[0;34m\u001b[0m\u001b[0;34m\u001b[0m\u001b[0m\n",
      "\u001b[0;32m/ncar/usr/jupyterhub/envs/cmip6-201910/lib/python3.7/site-packages/xarray/core/dataarray.py\u001b[0m in \u001b[0;36m__getitem__\u001b[0;34m(self, key)\u001b[0m\n\u001b[1;32m    636\u001b[0m     \u001b[0;32mdef\u001b[0m \u001b[0m__getitem__\u001b[0m\u001b[0;34m(\u001b[0m\u001b[0mself\u001b[0m\u001b[0;34m,\u001b[0m \u001b[0mkey\u001b[0m\u001b[0;34m:\u001b[0m \u001b[0mAny\u001b[0m\u001b[0;34m)\u001b[0m \u001b[0;34m->\u001b[0m \u001b[0;34m\"DataArray\"\u001b[0m\u001b[0;34m:\u001b[0m\u001b[0;34m\u001b[0m\u001b[0;34m\u001b[0m\u001b[0m\n\u001b[1;32m    637\u001b[0m         \u001b[0;32mif\u001b[0m \u001b[0misinstance\u001b[0m\u001b[0;34m(\u001b[0m\u001b[0mkey\u001b[0m\u001b[0;34m,\u001b[0m \u001b[0mstr\u001b[0m\u001b[0;34m)\u001b[0m\u001b[0;34m:\u001b[0m\u001b[0;34m\u001b[0m\u001b[0;34m\u001b[0m\u001b[0m\n\u001b[0;32m--> 638\u001b[0;31m             \u001b[0;32mreturn\u001b[0m \u001b[0mself\u001b[0m\u001b[0;34m.\u001b[0m\u001b[0m_getitem_coord\u001b[0m\u001b[0;34m(\u001b[0m\u001b[0mkey\u001b[0m\u001b[0;34m)\u001b[0m\u001b[0;34m\u001b[0m\u001b[0;34m\u001b[0m\u001b[0m\n\u001b[0m\u001b[1;32m    639\u001b[0m         \u001b[0;32melse\u001b[0m\u001b[0;34m:\u001b[0m\u001b[0;34m\u001b[0m\u001b[0;34m\u001b[0m\u001b[0m\n\u001b[1;32m    640\u001b[0m             \u001b[0;31m# xarray-style array indexing\u001b[0m\u001b[0;34m\u001b[0m\u001b[0;34m\u001b[0m\u001b[0;34m\u001b[0m\u001b[0m\n",
      "\u001b[0;32m/ncar/usr/jupyterhub/envs/cmip6-201910/lib/python3.7/site-packages/xarray/core/dataarray.py\u001b[0m in \u001b[0;36m_getitem_coord\u001b[0;34m(self, key)\u001b[0m\n\u001b[1;32m    629\u001b[0m             \u001b[0mdim_sizes\u001b[0m \u001b[0;34m=\u001b[0m \u001b[0mdict\u001b[0m\u001b[0;34m(\u001b[0m\u001b[0mzip\u001b[0m\u001b[0;34m(\u001b[0m\u001b[0mself\u001b[0m\u001b[0;34m.\u001b[0m\u001b[0mdims\u001b[0m\u001b[0;34m,\u001b[0m \u001b[0mself\u001b[0m\u001b[0;34m.\u001b[0m\u001b[0mshape\u001b[0m\u001b[0;34m)\u001b[0m\u001b[0;34m)\u001b[0m\u001b[0;34m\u001b[0m\u001b[0;34m\u001b[0m\u001b[0m\n\u001b[1;32m    630\u001b[0m             _, key, var = _get_virtual_variable(\n\u001b[0;32m--> 631\u001b[0;31m                 \u001b[0mself\u001b[0m\u001b[0;34m.\u001b[0m\u001b[0m_coords\u001b[0m\u001b[0;34m,\u001b[0m \u001b[0mkey\u001b[0m\u001b[0;34m,\u001b[0m \u001b[0mself\u001b[0m\u001b[0;34m.\u001b[0m\u001b[0m_level_coords\u001b[0m\u001b[0;34m,\u001b[0m \u001b[0mdim_sizes\u001b[0m\u001b[0;34m\u001b[0m\u001b[0;34m\u001b[0m\u001b[0m\n\u001b[0m\u001b[1;32m    632\u001b[0m             )\n\u001b[1;32m    633\u001b[0m \u001b[0;34m\u001b[0m\u001b[0m\n",
      "\u001b[0;32m/ncar/usr/jupyterhub/envs/cmip6-201910/lib/python3.7/site-packages/xarray/core/dataset.py\u001b[0m in \u001b[0;36m_get_virtual_variable\u001b[0;34m(variables, key, level_vars, dim_sizes)\u001b[0m\n\u001b[1;32m    156\u001b[0m             \u001b[0mdata\u001b[0m \u001b[0;34m=\u001b[0m \u001b[0mgetattr\u001b[0m\u001b[0;34m(\u001b[0m\u001b[0mref_var\u001b[0m\u001b[0;34m.\u001b[0m\u001b[0mdt\u001b[0m\u001b[0;34m,\u001b[0m \u001b[0mvar_name\u001b[0m\u001b[0;34m)\u001b[0m\u001b[0;34m.\u001b[0m\u001b[0mdata\u001b[0m\u001b[0;34m\u001b[0m\u001b[0;34m\u001b[0m\u001b[0m\n\u001b[1;32m    157\u001b[0m         \u001b[0;32melse\u001b[0m\u001b[0;34m:\u001b[0m\u001b[0;34m\u001b[0m\u001b[0;34m\u001b[0m\u001b[0m\n\u001b[0;32m--> 158\u001b[0;31m             \u001b[0mdata\u001b[0m \u001b[0;34m=\u001b[0m \u001b[0mgetattr\u001b[0m\u001b[0;34m(\u001b[0m\u001b[0mref_var\u001b[0m\u001b[0;34m,\u001b[0m \u001b[0mvar_name\u001b[0m\u001b[0;34m)\u001b[0m\u001b[0;34m.\u001b[0m\u001b[0mdata\u001b[0m\u001b[0;34m\u001b[0m\u001b[0;34m\u001b[0m\u001b[0m\n\u001b[0m\u001b[1;32m    159\u001b[0m         \u001b[0mvirtual_var\u001b[0m \u001b[0;34m=\u001b[0m \u001b[0mVariable\u001b[0m\u001b[0;34m(\u001b[0m\u001b[0mref_var\u001b[0m\u001b[0;34m.\u001b[0m\u001b[0mdims\u001b[0m\u001b[0;34m,\u001b[0m \u001b[0mdata\u001b[0m\u001b[0;34m)\u001b[0m\u001b[0;34m\u001b[0m\u001b[0;34m\u001b[0m\u001b[0m\n\u001b[1;32m    160\u001b[0m \u001b[0;34m\u001b[0m\u001b[0m\n",
      "\u001b[0;31mAttributeError\u001b[0m: 'IndexVariable' object has no attribute 'month'"
     ]
    }
   ],
   "source": [
    "#xds1[\"ua\"].groupby('time.month')\n",
    "print(xds1[\"time\"].groupby('time.month'))\n",
    "#xds1month['month'] = xds1['time'].dt.month"
   ]
  },
  {
   "cell_type": "code",
   "execution_count": 36,
   "metadata": {},
   "outputs": [
    {
     "data": {
      "text/plain": [
       "<xarray.Dataset>\n",
       "Dimensions:  (lat: 143, time: 1200)\n",
       "Coordinates:\n",
       "  * lat      (lat) float32 -90.0 -88.73239 -87.46479 ... 87.46479 88.73239 90.0\n",
       "    plev     float32 70000.0\n",
       "  * time     (time) object 1850-01-16T12:00:00 ... 1949-12-16T12:00:00\n",
       "Data variables:\n",
       "    ua       (time, lat) float32 nan -2.612786 -2.934967 ... 0.5326388 1.8189867"
      ]
     },
     "execution_count": 36,
     "metadata": {},
     "output_type": "execute_result"
    }
   ],
   "source": [
    "#xds1[\"ua\"].groupby('time.season')\n",
    "#xds1.time.dt.season\n",
    "xds1"
   ]
  },
  {
   "cell_type": "code",
   "execution_count": 37,
   "metadata": {},
   "outputs": [
    {
     "data": {
      "text/plain": [
       "<xarray.Dataset>\n",
       "Dimensions:   (bnds: 2, lat: 64, time: 1200)\n",
       "Coordinates:\n",
       "  * lat       (lat) float64 -87.86 -85.1 -82.31 -79.53 ... 82.31 85.1 87.86\n",
       "    plev      float64 7e+04\n",
       "  * time      (time) object 5201-01-16 12:00:00 ... 5300-12-16 12:00:00\n",
       "Dimensions without coordinates: bnds\n",
       "Data variables:\n",
       "    lat_bnds  (lat, bnds) float64 -90.0 -86.58 -86.58 ... 86.58 86.58 90.0\n",
       "    lon_bnds  (bnds) float64 177.2 180.0\n",
       "    ua        (time, lat) float32 -1.5328262 -0.39493603 ... 0.90615076"
      ]
     },
     "execution_count": 37,
     "metadata": {},
     "output_type": "execute_result"
    }
   ],
   "source": [
    "xds2"
   ]
  },
  {
   "cell_type": "code",
   "execution_count": null,
   "metadata": {},
   "outputs": [],
   "source": [
    "# calculate JJA season average\n",
    "#xr.Dataset.drop(dset_dict_pi[\"CMIP.IPSL.IPSL-CM6A-LR.piControl.Amon.gr\"])\n",
    "#del dset_dict_pi[\"CMIP.MRI.MRI-ESM2-0.piControl.Amon.gn\"]\n",
    "#del dset_dict_4x[\"CMIP.MRI.MRI-ESM2-0.abrupt-4xCO2.Amon.gn\"]\n",
    "pi_jja = {}\n",
    "for key, x in dset_dict_pi.items():\n",
    "    print(key)\n",
    "    pi_jja[key] = su.season_mean(pi_mean[0][key],\"ua\",season=\"JJA\")\n",
    "    \n",
    "abrupt4x_jja = {}\n",
    "for key, x in dset_dict_4x.items():\n",
    "    abrupt4x_jja[key] = su.season_mean(abrupt4x_mean[0][key],\"ua\",season=\"JJA\")"
   ]
  },
  {
   "cell_type": "code",
   "execution_count": 37,
   "metadata": {},
   "outputs": [],
   "source": [
    "#calculate jet latitude\n",
    "jlathist = {}\n",
    "jspeedhist = {}\n",
    "for key, x in dset_dict_pi.items():\n",
    "    jlatv, jspeedv = jlat.calcjetlat( pi_jja[key], -80, -20)\n",
    "    jlathist[key] = jlatv\n",
    "    jspeedhist[key] = jspeedv\n",
    "    \n",
    "jlatssp370 = {}\n",
    "jspeedssp370 = {}\n",
    "for key, x in dset_dict_4x.items():\n",
    "    jlatv, jspeedv = jlat.calcjetlat( abrupt4x_jja[key], -80, -20)\n",
    "    jlatssp370[key] = jlatv\n",
    "    jspeedssp370[key] = jspeedv"
   ]
  },
  {
   "cell_type": "code",
   "execution_count": 38,
   "metadata": {},
   "outputs": [],
   "source": [
    "#read in cmip5 data\n",
    "cmip5path = \"cmip5_jetlatitudes_pi4xco2.nc\"\n",
    "cmip5 = xr.open_dataset(cmip5path)\n",
    "#calculate linear regression line\n",
    "coefs = np.polyfit(cmip5.jlatpi, cmip5.jlat4x - cmip5.jlatpi, 1)\n",
    "acmip5=coefs[1]\n",
    "bcmip5=coefs[0]\n",
    "xvalues = [i for i in range(-55,-35)]\n",
    "yvalues = [acmip5 + bcmip5*i for i in xvalues]"
   ]
  },
  {
   "cell_type": "code",
   "execution_count": null,
   "metadata": {},
   "outputs": [],
   "source": [
    "#predict cmip6 values from cmip5\n",
    "jlathistvalues = list(jlathist.values())\n",
    "ycmip6 = [acmip5 + bcmip5*i for i in jlathistvalues]\n",
    "ycmip6"
   ]
  },
  {
   "cell_type": "code",
   "execution_count": 53,
   "metadata": {},
   "outputs": [
    {
     "data": {
      "text/plain": [
       "<matplotlib.legend.Legend at 0x2b408ca4b160>"
      ]
     },
     "execution_count": 53,
     "metadata": {},
     "output_type": "execute_result"
    },
    {
     "data": {
      "image/png": "[encoded data removed]",
      "text/plain": [
       "<Figure size 864x432 with 2 Axes>"
      ]
     },
     "metadata": {},
     "output_type": "display_data"
    }
   ],
   "source": [
    "# plotting\n",
    "jlathistvalues = list(jlathist.values())\n",
    "jlatssp370values = list(jlatssp370.values())\n",
    "jlatdif = [a - b for a, b in zip(jlatssp370values, jlathistvalues)]\n",
    "jlatdifpredict = [acmip5 + bcmip5*i for i in jlathistvalues]\n",
    "fig = plt.figure(figsize=(12, 6),facecolor='w')\n",
    "ax = fig.add_subplot(1, 2, 1)\n",
    "#ax.plot(jlathistvalues,jlatdif, color='red', label='CMIP6', marker='o', linestyle='none')\n",
    "ax.plot(cmip5.jlatpi, cmip5.jlat4x-cmip5.jlatpi, color='red', label='CMIP5', marker='o', linestyle='none')\n",
    "ax.plot(xvalues,yvalues,color='green', label='CMIP5 Regression', linestyle='solid')\n",
    "ax.plot(jlathistvalues,jlatdif, color='blue', label='CMIP6', marker='o', linestyle='none')\n",
    "ax.set_xlabel('Past jet latitude ($\\phi_{o}$)', fontdict={'size':12});\n",
    "ax.set_ylabel('Future - Past jet latitude ($\\Delta\\phi$)', fontdict={'size':12});  \n",
    "ax.set_title('$\\Delta\\phi$ vs $\\phi_{o}$', fontdict={'size':14})\n",
    "ax.legend(loc='lower left', fontsize=14)\n",
    "\n",
    "\n",
    "r = np.corrcoef(jlatdif,jlatdifpredict)\n",
    "r=r[0,1]\n",
    "rsq = r**2\n",
    "\n",
    "ax2=fig.add_subplot(1,2,2)\n",
    "ax2.plot(jlatdif, jlatdifpredict, color='red', label='r$^{2}$='+str(rsq), marker='o', linestyle='none')\n",
    "ax2.set_xlabel('$\\Delta\\phi$', fontdict={'size':12})\n",
    "ax2.set_ylabel('Predicted $\\Delta\\phi$', fontdict={'size':12})\n",
    "ax2.plot([-10,0],[-10,0], color='black', label='1:1', linestyle='solid')\n",
    "ax2.set_title('$\\Delta\\phi$ prediction vs $\\Delta\\phi$', fontdict={'size':14})\n",
    "ax2.legend(loc='upper left', fontsize=14)\n"
   ]
  },
  {
   "cell_type": "code",
   "execution_count": null,
   "metadata": {},
   "outputs": [],
   "source": []
  }
 ],
 "metadata": {
  "kernelspec": {
   "display_name": "CMIP6 2019.10",
   "language": "python",
   "name": "cmip6-201910"
  },
  "language_info": {
   "codemirror_mode": {
    "name": "ipython",
    "version": 3
   },
   "file_extension": ".py",
   "mimetype": "text/x-python",
   "name": "python",
   "nbconvert_exporter": "python",
   "pygments_lexer": "ipython3",
   "version": "3.7.3"
  }
 },
 "nbformat": 4,
 "nbformat_minor": 4
}
