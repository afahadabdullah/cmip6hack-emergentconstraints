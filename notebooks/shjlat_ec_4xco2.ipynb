{
 "cells": [
  {
   "cell_type": "markdown",
   "metadata": {},
   "source": [
    "## Does the CMIP5 emergent constraint on SH jet shifts work in CMIP6?\n",
    "\n",
    "Kidston and Gerber (2010) (https://doi.org/10.1029/2010GL042873) demonstrated in the annual mean that there was a relationship between the SH climatological jet latitude in the present day and how much the SH jet latitude shifted further poleward under anthropogenic climate change.  Suggesting that there is an emergent constraint on the SH jet latitude change i.e., we know where the real worl jet latitude is and we can use the inter-model relationship between jet latitude and jet shift, to predict where the real world jet will shift in the future.  This relationship was further demonstrated by Simpson and Polvani (https://doi.org/10.1002/2016GL067989) to have a strong seasonality, with the emergent constraint only being strong in the SH winter (JJA).\n",
    "\n",
    "<img src=\"simpsonandpolvani.png\">"
   ]
  },
  {
   "cell_type": "code",
   "execution_count": 1,
   "metadata": {},
   "outputs": [
    {
     "name": "stdout",
     "output_type": "stream",
     "text": [
      "you have successfully imported the jet latitude calculation subroutines\n"
     ]
    }
   ],
   "source": [
    "# Loading libraries\n",
    "%matplotlib inline\n",
    "import matplotlib.pyplot as plt\n",
    "import numpy as np\n",
    "import xarray as xr\n",
    "import xesmf as xe\n",
    "import dask\n",
    "import season_util as su\n",
    "import jetlatcalcs as jlat\n",
    "import intake"
   ]
  },
  {
   "cell_type": "code",
   "execution_count": 2,
   "metadata": {},
   "outputs": [
    {
     "data": {
      "application/vnd.jupyter.widget-view+json": {
       "model_id": "93efff2fc55344b09be85fcd4bc143e3",
       "version_major": 2,
       "version_minor": 0
      },
      "text/plain": [
       "VBox(children=(HTML(value='<h2>NCARCluster</h2>'), HBox(children=(HTML(value='\\n<div>\\n  <style scoped>\\n    .…"
      ]
     },
     "metadata": {},
     "output_type": "display_data"
    }
   ],
   "source": [
    "from ncar_jobqueue import NCARCluster\n",
    "from distributed import Client\n",
    "cluster = NCARCluster(project='UCGD0006')\n",
    "cluster.adapt(minimum_jobs=1, maximum_jobs=10)\n",
    "client = Client(cluster)\n",
    "cluster"
   ]
  },
  {
   "cell_type": "code",
   "execution_count": 3,
   "metadata": {},
   "outputs": [
    {
     "name": "stdout",
     "output_type": "stream",
     "text": [
      "--> The keys in the returned dictionary of datasets are constructed as follows:\n",
      "\t'activity_id.institution_id.source_id.experiment_id.table_id.grid_label'\n",
      "\n",
      "--> There will be 19 group(s)\n",
      "--> The keys in the returned dictionary of datasets are constructed as follows:\n",
      "\t'activity_id.institution_id.source_id.experiment_id.table_id.grid_label'\n",
      "\n",
      "--> There will be 19 group(s)\n"
     ]
    },
    {
     "data": {
      "text/html": [
       "<div>\n",
       "<style scoped>\n",
       "    .dataframe tbody tr th:only-of-type {\n",
       "        vertical-align: middle;\n",
       "    }\n",
       "\n",
       "    .dataframe tbody tr th {\n",
       "        vertical-align: top;\n",
       "    }\n",
       "\n",
       "    .dataframe thead th {\n",
       "        text-align: right;\n",
       "    }\n",
       "</style>\n",
       "<table border=\"1\" class=\"dataframe\">\n",
       "  <thead>\n",
       "    <tr style=\"text-align: right;\">\n",
       "      <th></th>\n",
       "      <th>activity_id</th>\n",
       "      <th>institution_id</th>\n",
       "      <th>source_id</th>\n",
       "      <th>experiment_id</th>\n",
       "      <th>member_id</th>\n",
       "      <th>table_id</th>\n",
       "      <th>variable_id</th>\n",
       "      <th>grid_label</th>\n",
       "      <th>dcpp_init_year</th>\n",
       "      <th>version</th>\n",
       "      <th>time_range</th>\n",
       "      <th>path</th>\n",
       "    </tr>\n",
       "  </thead>\n",
       "  <tbody>\n",
       "    <tr>\n",
       "      <td>18037</td>\n",
       "      <td>CMIP</td>\n",
       "      <td>CNRM-CERFACS</td>\n",
       "      <td>CNRM-CM6-1</td>\n",
       "      <td>abrupt-4xCO2</td>\n",
       "      <td>r3i1p1f2</td>\n",
       "      <td>Amon</td>\n",
       "      <td>ua</td>\n",
       "      <td>gr</td>\n",
       "      <td>NaN</td>\n",
       "      <td>v20181012</td>\n",
       "      <td>185005-185912</td>\n",
       "      <td>/glade/collections/cmip/CMIP6/CMIP/CNRM-CERFAC...</td>\n",
       "    </tr>\n",
       "    <tr>\n",
       "      <td>18262</td>\n",
       "      <td>CMIP</td>\n",
       "      <td>CNRM-CERFACS</td>\n",
       "      <td>CNRM-CM6-1</td>\n",
       "      <td>abrupt-4xCO2</td>\n",
       "      <td>r4i1p1f2</td>\n",
       "      <td>Amon</td>\n",
       "      <td>ua</td>\n",
       "      <td>gr</td>\n",
       "      <td>NaN</td>\n",
       "      <td>v20181012</td>\n",
       "      <td>185007-185912</td>\n",
       "      <td>/glade/collections/cmip/CMIP6/CMIP/CNRM-CERFAC...</td>\n",
       "    </tr>\n",
       "    <tr>\n",
       "      <td>18628</td>\n",
       "      <td>CMIP</td>\n",
       "      <td>CNRM-CERFACS</td>\n",
       "      <td>CNRM-CM6-1</td>\n",
       "      <td>abrupt-4xCO2</td>\n",
       "      <td>r1i1p1f2</td>\n",
       "      <td>Amon</td>\n",
       "      <td>ua</td>\n",
       "      <td>gr</td>\n",
       "      <td>NaN</td>\n",
       "      <td>v20180705</td>\n",
       "      <td>185001-199912</td>\n",
       "      <td>/glade/collections/cmip/CMIP6/CMIP/CNRM-CERFAC...</td>\n",
       "    </tr>\n",
       "    <tr>\n",
       "      <td>18854</td>\n",
       "      <td>CMIP</td>\n",
       "      <td>CNRM-CERFACS</td>\n",
       "      <td>CNRM-CM6-1</td>\n",
       "      <td>abrupt-4xCO2</td>\n",
       "      <td>r5i1p1f2</td>\n",
       "      <td>Amon</td>\n",
       "      <td>ua</td>\n",
       "      <td>gr</td>\n",
       "      <td>NaN</td>\n",
       "      <td>v20181012</td>\n",
       "      <td>185009-185912</td>\n",
       "      <td>/glade/collections/cmip/CMIP6/CMIP/CNRM-CERFAC...</td>\n",
       "    </tr>\n",
       "    <tr>\n",
       "      <td>19078</td>\n",
       "      <td>CMIP</td>\n",
       "      <td>CNRM-CERFACS</td>\n",
       "      <td>CNRM-CM6-1</td>\n",
       "      <td>abrupt-4xCO2</td>\n",
       "      <td>r2i1p1f2</td>\n",
       "      <td>Amon</td>\n",
       "      <td>ua</td>\n",
       "      <td>gr</td>\n",
       "      <td>NaN</td>\n",
       "      <td>v20181012</td>\n",
       "      <td>185003-185912</td>\n",
       "      <td>/glade/collections/cmip/CMIP6/CMIP/CNRM-CERFAC...</td>\n",
       "    </tr>\n",
       "  </tbody>\n",
       "</table>\n",
       "</div>"
      ],
      "text/plain": [
       "      activity_id institution_id   source_id experiment_id member_id table_id  \\\n",
       "18037        CMIP   CNRM-CERFACS  CNRM-CM6-1  abrupt-4xCO2  r3i1p1f2     Amon   \n",
       "18262        CMIP   CNRM-CERFACS  CNRM-CM6-1  abrupt-4xCO2  r4i1p1f2     Amon   \n",
       "18628        CMIP   CNRM-CERFACS  CNRM-CM6-1  abrupt-4xCO2  r1i1p1f2     Amon   \n",
       "18854        CMIP   CNRM-CERFACS  CNRM-CM6-1  abrupt-4xCO2  r5i1p1f2     Amon   \n",
       "19078        CMIP   CNRM-CERFACS  CNRM-CM6-1  abrupt-4xCO2  r2i1p1f2     Amon   \n",
       "\n",
       "      variable_id grid_label  dcpp_init_year    version     time_range  \\\n",
       "18037          ua         gr             NaN  v20181012  185005-185912   \n",
       "18262          ua         gr             NaN  v20181012  185007-185912   \n",
       "18628          ua         gr             NaN  v20180705  185001-199912   \n",
       "18854          ua         gr             NaN  v20181012  185009-185912   \n",
       "19078          ua         gr             NaN  v20181012  185003-185912   \n",
       "\n",
       "                                                    path  \n",
       "18037  /glade/collections/cmip/CMIP6/CMIP/CNRM-CERFAC...  \n",
       "18262  /glade/collections/cmip/CMIP6/CMIP/CNRM-CERFAC...  \n",
       "18628  /glade/collections/cmip/CMIP6/CMIP/CNRM-CERFAC...  \n",
       "18854  /glade/collections/cmip/CMIP6/CMIP/CNRM-CERFAC...  \n",
       "19078  /glade/collections/cmip/CMIP6/CMIP/CNRM-CERFAC...  "
      ]
     },
     "execution_count": 3,
     "metadata": {},
     "output_type": "execute_result"
    }
   ],
   "source": [
    "models=['AWI-CM-1-1-MR','BCC-CSM2-MR','BCC-ESM1',\n",
    "       'CAMS-CSM1-0','CanESM5','CNRM-CM6-1','CNRM-ESM2-1','E3SM-1-0',\n",
    "       'MIROC6',\n",
    "       'HadGEM3-GC31-LL','UKESM1-0-LL','MRI-ESM2-0',\n",
    "       'GISS-E2-1-G','GISS-E2-1-H','CESM2','CESM2-WACCM',\n",
    "       'NorESM2-LM','GFDL-AM4','GFDL-ESM4','SAM0-UNICON']\n",
    "\n",
    "#model = ['IPSL-CM6A-LR','CanESM5']\n",
    "\n",
    "var = [\"ua\"]\n",
    "col = intake.open_esm_datastore(\"/glade/collections/cmip/catalog/\\\n",
    "intake-esm-datastore/catalogs/glade-cmip6.json\")\n",
    "cat = col.search(activity_id=\"CMIP\",experiment_id=\"piControl\",\n",
    "                variable_id=var, table_id=\"Amon\", source_id=models)\n",
    "cat4x = col.search(activity_id=\"CMIP\",experiment_id=\"abrupt-4xCO2\",\n",
    "                variable_id=var, table_id=\"Amon\", source_id=models)\n",
    "dset_dict_pi = cat.to_dataset_dict(cdf_kwargs={'chunks': {\"time\": 36}, \n",
    "                                    'decode_times': True})\n",
    "dset_dict_4x = cat4x.to_dataset_dict(cdf_kwargs={'chunks': {\"time\": 36}, \n",
    "                                    'decode_times': True})\n",
    "cat4x.df.head()"
   ]
  },
  {
   "cell_type": "markdown",
   "metadata": {},
   "source": [
    "Note, currently all models piControls start in January.  This is going to fail for a model where that's not the case e.g., often the met office.  We need to do something fancier here to make sure it works more generally"
   ]
  },
  {
   "cell_type": "code",
   "execution_count": 4,
   "metadata": {},
   "outputs": [],
   "source": [
    "#calculate the mean over longitude, ensemble members and desired time period and pick out 700hPa\n",
    "pi_mean = {}\n",
    "abrupt4x_mean = {}\n",
    "for key, ds in dset_dict_pi.items():\n",
    "    pi_mean[key] = ds.isel(time = slice(0,100*12))\n",
    "    pi_mean[key] = pi_mean[key].sel(plev=70000.).mean(dim=[\"member_id\",\"lon\"])\n",
    "for key, ds in dset_dict_4x.items():\n",
    "    abrupt4x_mean[key] = ds.isel(time = slice(50*12,150*12))\n",
    "    abrupt4x_mean[key] = abrupt4x_mean[key].sel(plev=70000.).mean(dim=[\"member_id\",\"lon\"])"
   ]
  },
  {
   "cell_type": "code",
   "execution_count": null,
   "metadata": {},
   "outputs": [],
   "source": [
    "print(abrupt4x_mean)"
   ]
  },
  {
   "cell_type": "code",
   "execution_count": 6,
   "metadata": {},
   "outputs": [],
   "source": [
    "pi_mean = dask.compute(pi_mean)\n",
    "abrupt4x_mean = dask.compute(abrupt4x_mean)"
   ]
  },
  {
   "cell_type": "code",
   "execution_count": 7,
   "metadata": {},
   "outputs": [
    {
     "name": "stdout",
     "output_type": "stream",
     "text": [
      "CMIP.AWI.AWI-CM-1-1-MR.piControl.Amon.gn\n",
      "CMIP.BCC.BCC-CSM2-MR.piControl.Amon.gn\n",
      "CMIP.BCC.BCC-ESM1.piControl.Amon.gn\n",
      "CMIP.CAMS.CAMS-CSM1-0.piControl.Amon.gn\n",
      "CMIP.CCCma.CanESM5.piControl.Amon.gn\n",
      "CMIP.CNRM-CERFACS.CNRM-CM6-1.piControl.Amon.gr\n",
      "CMIP.CNRM-CERFACS.CNRM-ESM2-1.piControl.Amon.gr\n",
      "CMIP.E3SM-Project.E3SM-1-0.piControl.Amon.gr\n",
      "CMIP.MIROC.MIROC6.piControl.Amon.gn\n",
      "CMIP.MOHC.HadGEM3-GC31-LL.piControl.Amon.gn\n",
      "CMIP.MOHC.UKESM1-0-LL.piControl.Amon.gn\n",
      "CMIP.MRI.MRI-ESM2-0.piControl.Amon.gn\n",
      "CMIP.NASA-GISS.GISS-E2-1-G.piControl.Amon.gn\n",
      "CMIP.NASA-GISS.GISS-E2-1-H.piControl.Amon.gn\n",
      "CMIP.NCAR.CESM2.piControl.Amon.gn\n",
      "CMIP.NCAR.CESM2-WACCM.piControl.Amon.gn\n",
      "CMIP.NCC.NorESM2-LM.piControl.Amon.gn\n",
      "CMIP.NOAA-GFDL.GFDL-ESM4.piControl.Amon.gr1\n",
      "CMIP.SNU.SAM0-UNICON.piControl.Amon.gn\n"
     ]
    },
    {
     "name": "stderr",
     "output_type": "stream",
     "text": [
      "/ncar/usr/jupyterhub/envs/cmip6-201910/lib/python3.7/site-packages/xarray/core/nanops.py:140: RuntimeWarning: Mean of empty slice\n",
      "  return np.nanmean(a, axis=axis, dtype=dtype)\n",
      "/ncar/usr/jupyterhub/envs/cmip6-201910/lib/python3.7/site-packages/xarray/core/nanops.py:140: RuntimeWarning: Mean of empty slice\n",
      "  return np.nanmean(a, axis=axis, dtype=dtype)\n",
      "/ncar/usr/jupyterhub/envs/cmip6-201910/lib/python3.7/site-packages/xarray/core/nanops.py:140: RuntimeWarning: Mean of empty slice\n",
      "  return np.nanmean(a, axis=axis, dtype=dtype)\n",
      "/ncar/usr/jupyterhub/envs/cmip6-201910/lib/python3.7/site-packages/xarray/core/nanops.py:140: RuntimeWarning: Mean of empty slice\n",
      "  return np.nanmean(a, axis=axis, dtype=dtype)\n",
      "/ncar/usr/jupyterhub/envs/cmip6-201910/lib/python3.7/site-packages/xarray/core/nanops.py:140: RuntimeWarning: Mean of empty slice\n",
      "  return np.nanmean(a, axis=axis, dtype=dtype)\n",
      "/ncar/usr/jupyterhub/envs/cmip6-201910/lib/python3.7/site-packages/xarray/core/nanops.py:140: RuntimeWarning: Mean of empty slice\n",
      "  return np.nanmean(a, axis=axis, dtype=dtype)\n",
      "/ncar/usr/jupyterhub/envs/cmip6-201910/lib/python3.7/site-packages/xarray/core/nanops.py:140: RuntimeWarning: Mean of empty slice\n",
      "  return np.nanmean(a, axis=axis, dtype=dtype)\n"
     ]
    }
   ],
   "source": [
    "# calculate JJA season average\n",
    "#xr.Dataset.drop(dset_dict_pi[\"CMIP.IPSL.IPSL-CM6A-LR.piControl.Amon.gr\"])\n",
    "#del dset_dict_pi[\"CMIP.MRI.MRI-ESM2-0.piControl.Amon.gn\"]\n",
    "#del dset_dict_4x[\"CMIP.MRI.MRI-ESM2-0.abrupt-4xCO2.Amon.gn\"]\n",
    "import pandas as pd\n",
    "pi_jja = {}\n",
    "for key, x in dset_dict_pi.items():\n",
    "    print(key)\n",
    "    try:\n",
    "        pi_jja[key] = su.season_mean(pi_mean[0][key],\"ua\",season=\"JJA\")\n",
    "    except:\n",
    "        pi_mean[0][key][\"time\"]=pd.date_range(pi_mean[0][key].time[0].values, pd.date_range(pi_mean[0][key].time[-1].values, periods=1,freq='M').values[-1], freq='M')\n",
    "        pi_jja[key] = su.season_mean(pi_mean[0][key],\"ua\",season=\"JJA\")\n",
    "\n",
    "abrupt4x_jja = {}\n",
    "for key, x in dset_dict_4x.items():\n",
    "    \n",
    "    try:\n",
    "        abrupt4x_jja[key] = su.season_mean(abrupt4x_mean[0][key],\"ua\",season=\"JJA\")\n",
    "    except:\n",
    "        abrupt4x_mean[0][key][\"time\"]=pd.date_range(abrupt4x_mean[0][key].time[0].values, pd.date_range(abrupt4x_mean[0][key].time[-1].values, periods=1,freq='M').values[-1], freq='M')\n",
    "        abrupt4x_jja[key] = su.season_mean(abrupt4x_mean[0][key],\"ua\",season=\"JJA\")\n",
    "        "
   ]
  },
  {
   "cell_type": "code",
   "execution_count": 8,
   "metadata": {
    "jupyter": {
     "source_hidden": true
    }
   },
   "outputs": [],
   "source": [
    "#calculate jet latitude\n",
    "jlathist = {}\n",
    "jspeedhist = {}\n",
    "for key, x in dset_dict_pi.items():\n",
    "    jlatv, jspeedv = jlat.calcjetlat( pi_jja[key], -80, -20)\n",
    "    jlathist[key] = jlatv\n",
    "    jspeedhist[key] = jspeedv\n",
    "    \n",
    "jlatssp370 = {}\n",
    "jspeedssp370 = {}\n",
    "for key, x in dset_dict_4x.items():\n",
    "    jlatv, jspeedv = jlat.calcjetlat( abrupt4x_jja[key], -80, -20)\n",
    "    jlatssp370[key] = jlatv\n",
    "    jspeedssp370[key] = jspeedv"
   ]
  },
  {
   "cell_type": "code",
   "execution_count": 9,
   "metadata": {},
   "outputs": [],
   "source": [
    "#read in cmip5 data\n",
    "cmip5path = \"cmip5_jetlatitudes_pi4xco2.nc\"\n",
    "cmip5 = xr.open_dataset(cmip5path)\n",
    "#calculate linear regression line\n",
    "coefs = np.polyfit(cmip5.jlatpi, cmip5.jlat4x - cmip5.jlatpi, 1)\n",
    "acmip5=coefs[1]\n",
    "bcmip5=coefs[0]\n",
    "xvalues = [i for i in range(-55,-35)]\n",
    "yvalues = [acmip5 + bcmip5*i for i in xvalues]"
   ]
  },
  {
   "cell_type": "code",
   "execution_count": 10,
   "metadata": {},
   "outputs": [
    {
     "data": {
      "text/plain": [
       "[-1.2244194094357326,\n",
       " -1.3115047674596276,\n",
       " -1.4799173518491173,\n",
       " -3.4235733009761553,\n",
       " -2.5758506426250385,\n",
       " -3.329880654138755,\n",
       " -4.28371573770465,\n",
       " -1.473055815540942,\n",
       " -5.9437001481901675,\n",
       " -2.274231282271302,\n",
       " -2.617746949179203,\n",
       " -3.686959808813789,\n",
       " -1.4301178203745373,\n",
       " -0.8465644219171153,\n",
       " -1.0928331012976287,\n",
       " -0.9757829809847003,\n",
       " -0.16005823285016518,\n",
       " -3.030858228196788,\n",
       " -0.1286534035571023]"
      ]
     },
     "execution_count": 10,
     "metadata": {},
     "output_type": "execute_result"
    }
   ],
   "source": [
    "#predict cmip6 values from cmip5\n",
    "jlathistvalues = list(jlathist.values())\n",
    "ycmip6 = [acmip5 + bcmip5*i for i in jlathistvalues]\n",
    "ycmip6"
   ]
  },
  {
   "cell_type": "code",
   "execution_count": 11,
   "metadata": {},
   "outputs": [
    {
     "data": {
      "text/plain": [
       "<matplotlib.legend.Legend at 0x2b193f0484a8>"
      ]
     },
     "execution_count": 11,
     "metadata": {},
     "output_type": "execute_result"
    },
    {
     "data": {
      "image/png": "[encoded data removed]",
      "text/plain": [
       "<Figure size 864x432 with 2 Axes>"
      ]
     },
     "metadata": {},
     "output_type": "display_data"
    }
   ],
   "source": [
    "# plotting\n",
    "jlathistvalues = list(jlathist.values())\n",
    "jlatssp370values = list(jlatssp370.values())\n",
    "jlatdif = [a - b for a, b in zip(jlatssp370values, jlathistvalues)]\n",
    "jlatdifpredict = [acmip5 + bcmip5*i for i in jlathistvalues]\n",
    "fig = plt.figure(figsize=(12, 6),facecolor='w')\n",
    "ax = fig.add_subplot(1, 2, 1)\n",
    "#ax.plot(jlathistvalues,jlatdif, color='red', label='CMIP6', marker='o', linestyle='none')\n",
    "ax.plot(cmip5.jlatpi, cmip5.jlat4x-cmip5.jlatpi, color='red', label='CMIP5', marker='o', linestyle='none')\n",
    "ax.plot(xvalues,yvalues,color='green', label='CMIP5 Regression', linestyle='solid')\n",
    "ax.plot(jlathistvalues,jlatdif, color='blue', label='CMIP6', marker='o', linestyle='none')\n",
    "ax.set_xlabel('Past jet latitude ($\\phi_{o}$)', fontdict={'size':12});\n",
    "ax.set_ylabel('Future - Past jet latitude ($\\Delta\\phi$)', fontdict={'size':12});  \n",
    "ax.set_title('$\\Delta\\phi$ vs $\\phi_{o}$', fontdict={'size':14})\n",
    "ax.legend(loc='lower left', fontsize=14)\n",
    "\n",
    "\n",
    "r = np.corrcoef(jlatdif,jlatdifpredict)\n",
    "r=r[0,1]\n",
    "rsq = r**2\n",
    "\n",
    "ax2=fig.add_subplot(1,2,2)\n",
    "ax2.plot(jlatdif, jlatdifpredict, color='red', label='r$^{2}$='+str(rsq), marker='o', linestyle='none')\n",
    "ax2.set_xlabel('$\\Delta\\phi$', fontdict={'size':12})\n",
    "ax2.set_ylabel('Predicted $\\Delta\\phi$', fontdict={'size':12})\n",
    "ax2.plot([-10,0],[-10,0], color='black', label='1:1', linestyle='solid')\n",
    "ax2.set_title('$\\Delta\\phi$ prediction vs $\\Delta\\phi$', fontdict={'size':14})\n",
    "ax2.legend(loc='upper left', fontsize=14)\n"
   ]
  }
 ],
 "metadata": {
  "kernelspec": {
   "display_name": "CMIP6 2019.10",
   "language": "python",
   "name": "cmip6-201910"
  },
  "language_info": {
   "codemirror_mode": {
    "name": "ipython",
    "version": 3
   },
   "file_extension": ".py",
   "mimetype": "text/x-python",
   "name": "python",
   "nbconvert_exporter": "python",
   "pygments_lexer": "ipython3",
   "version": "3.7.3"
  }
 },
 "nbformat": 4,
 "nbformat_minor": 4
}
